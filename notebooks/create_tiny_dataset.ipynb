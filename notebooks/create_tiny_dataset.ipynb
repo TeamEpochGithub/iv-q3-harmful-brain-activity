{
 "cells": [
  {
   "cell_type": "code",
   "execution_count": 4,
   "metadata": {},
   "outputs": [],
   "source": [
    "import pandas as pd\n",
    "import numpy as np"
   ]
  },
  {
   "cell_type": "code",
   "execution_count": 5,
   "metadata": {},
   "outputs": [],
   "source": [
    "# Read the train csv\n",
    "train = pd.read_csv('../data/raw/train.csv')"
   ]
  },
  {
   "cell_type": "code",
   "execution_count": 13,
   "metadata": {},
   "outputs": [
    {
     "data": {
      "text/plain": [
       "eeg_id                               26\n",
       "eeg_sub_id                           14\n",
       "eeg_label_offset_seconds             24\n",
       "spectrogram_id                       22\n",
       "spectrogram_sub_id                   14\n",
       "spectrogram_label_offset_seconds     33\n",
       "label_id                            100\n",
       "patient_id                           22\n",
       "expert_consensus                      5\n",
       "seizure_vote                          3\n",
       "lpd_vote                              3\n",
       "gpd_vote                              4\n",
       "lrda_vote                             5\n",
       "grda_vote                             5\n",
       "other_vote                           10\n",
       "dtype: int64"
      ]
     },
     "execution_count": 13,
     "metadata": {},
     "output_type": "execute_result"
    }
   ],
   "source": [
    "# read the first 100 rows of the train csv\n",
    "train_small = train.iloc[:100]\n",
    "train_small.nunique()"
   ]
  },
  {
   "cell_type": "code",
   "execution_count": 19,
   "metadata": {},
   "outputs": [],
   "source": [
    "# Copy the eeg files with the eeg_ids to a new folder\n",
    "import shutil\n",
    "import os\n",
    "\n",
    "# Create a new folder\n",
    "os.makedirs('../data/raw/train_eegs_small', exist_ok=True)\n",
    "\n",
    "# Copy the files\n",
    "for eeg_id in train_small.eeg_id:\n",
    "    shutil.copy(f'../data/raw/train_eegs/{eeg_id}.parquet', f'../data/raw/train_eegs_small')\n",
    "\n"
   ]
  },
  {
   "cell_type": "code",
   "execution_count": 21,
   "metadata": {},
   "outputs": [],
   "source": [
    "# Now do the same for spectrgotrams\n",
    "\n",
    "os.makedirs('../data/raw/train_spectrograms_small', exist_ok=True)\n",
    "\n",
    "for spectrogram_id in train_small.spectrogram_id:\n",
    "    shutil.copy(f'../data/raw/train_spectrograms/{spectrogram_id}.parquet', f'../data/raw/train_spectrograms_small')"
   ]
  },
  {
   "cell_type": "code",
   "execution_count": null,
   "metadata": {},
   "outputs": [],
   "source": [
    "# Lastly write the small train csv\n",
    "train_small.to_csv('../data/raw/train_small.csv', index=False)"
   ]
  }
 ],
 "metadata": {
  "kernelspec": {
   "display_name": "venv",
   "language": "python",
   "name": "python3"
  },
  "language_info": {
   "codemirror_mode": {
    "name": "ipython",
    "version": 3
   },
   "file_extension": ".py",
   "mimetype": "text/x-python",
   "name": "python",
   "nbconvert_exporter": "python",
   "pygments_lexer": "ipython3",
   "version": "3.11.8"
  }
 },
 "nbformat": 4,
 "nbformat_minor": 2
}
