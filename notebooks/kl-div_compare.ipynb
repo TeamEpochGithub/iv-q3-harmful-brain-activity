{
 "cells": [
  {
   "cell_type": "code",
   "execution_count": 1,
   "metadata": {},
   "outputs": [],
   "source": [
    "# the folder train eegs has a lot of parquet files. Read each of them and store the results in a dataframe\n",
    "import pandas as pd\n",
    "import pyarrow.parquet as pq\n",
    "import os\n",
    "import numpy as np\n",
    "import matplotlib.pyplot as plt\n",
    "import seaborn as sns\n",
    "from tqdm import tqdm\n",
    "import polars as pl\n",
    "import dask\n",
    "dask.config.set({'dataframe.query-planning': True})\n",
    "import dask.dataframe as dd\n",
    "from dask.distributed import Client\n",
    "from tqdm import tqdm\n",
    "\n",
    "tqdm.pandas()\n",
    "# Read data\n",
    "train = pd.read_csv('../data/raw/train.csv')"
   ]
  },
  {
   "cell_type": "code",
   "execution_count": 2,
   "metadata": {},
   "outputs": [
    {
     "data": {
      "text/html": [
       "<div>\n",
       "<style scoped>\n",
       "    .dataframe tbody tr th:only-of-type {\n",
       "        vertical-align: middle;\n",
       "    }\n",
       "\n",
       "    .dataframe tbody tr th {\n",
       "        vertical-align: top;\n",
       "    }\n",
       "\n",
       "    .dataframe thead th {\n",
       "        text-align: right;\n",
       "    }\n",
       "</style>\n",
       "<table border=\"1\" class=\"dataframe\">\n",
       "  <thead>\n",
       "    <tr style=\"text-align: right;\">\n",
       "      <th></th>\n",
       "      <th>eeg_id</th>\n",
       "      <th>eeg_sub_id</th>\n",
       "      <th>eeg_label_offset_seconds</th>\n",
       "      <th>spectrogram_id</th>\n",
       "      <th>spectrogram_sub_id</th>\n",
       "      <th>spectrogram_label_offset_seconds</th>\n",
       "      <th>label_id</th>\n",
       "      <th>patient_id</th>\n",
       "      <th>expert_consensus</th>\n",
       "      <th>seizure_vote</th>\n",
       "      <th>lpd_vote</th>\n",
       "      <th>gpd_vote</th>\n",
       "      <th>lrda_vote</th>\n",
       "      <th>grda_vote</th>\n",
       "      <th>other_vote</th>\n",
       "    </tr>\n",
       "  </thead>\n",
       "  <tbody>\n",
       "    <tr>\n",
       "      <th>0</th>\n",
       "      <td>1628180742</td>\n",
       "      <td>0</td>\n",
       "      <td>0.0</td>\n",
       "      <td>353733</td>\n",
       "      <td>0</td>\n",
       "      <td>0.0</td>\n",
       "      <td>127492639</td>\n",
       "      <td>42516</td>\n",
       "      <td>Seizure</td>\n",
       "      <td>3</td>\n",
       "      <td>0</td>\n",
       "      <td>0</td>\n",
       "      <td>0</td>\n",
       "      <td>0</td>\n",
       "      <td>0</td>\n",
       "    </tr>\n",
       "    <tr>\n",
       "      <th>1</th>\n",
       "      <td>1628180742</td>\n",
       "      <td>1</td>\n",
       "      <td>6.0</td>\n",
       "      <td>353733</td>\n",
       "      <td>1</td>\n",
       "      <td>6.0</td>\n",
       "      <td>3887563113</td>\n",
       "      <td>42516</td>\n",
       "      <td>Seizure</td>\n",
       "      <td>3</td>\n",
       "      <td>0</td>\n",
       "      <td>0</td>\n",
       "      <td>0</td>\n",
       "      <td>0</td>\n",
       "      <td>0</td>\n",
       "    </tr>\n",
       "    <tr>\n",
       "      <th>2</th>\n",
       "      <td>1628180742</td>\n",
       "      <td>2</td>\n",
       "      <td>8.0</td>\n",
       "      <td>353733</td>\n",
       "      <td>2</td>\n",
       "      <td>8.0</td>\n",
       "      <td>1142670488</td>\n",
       "      <td>42516</td>\n",
       "      <td>Seizure</td>\n",
       "      <td>3</td>\n",
       "      <td>0</td>\n",
       "      <td>0</td>\n",
       "      <td>0</td>\n",
       "      <td>0</td>\n",
       "      <td>0</td>\n",
       "    </tr>\n",
       "    <tr>\n",
       "      <th>3</th>\n",
       "      <td>1628180742</td>\n",
       "      <td>3</td>\n",
       "      <td>18.0</td>\n",
       "      <td>353733</td>\n",
       "      <td>3</td>\n",
       "      <td>18.0</td>\n",
       "      <td>2718991173</td>\n",
       "      <td>42516</td>\n",
       "      <td>Seizure</td>\n",
       "      <td>3</td>\n",
       "      <td>0</td>\n",
       "      <td>0</td>\n",
       "      <td>0</td>\n",
       "      <td>0</td>\n",
       "      <td>0</td>\n",
       "    </tr>\n",
       "    <tr>\n",
       "      <th>4</th>\n",
       "      <td>1628180742</td>\n",
       "      <td>4</td>\n",
       "      <td>24.0</td>\n",
       "      <td>353733</td>\n",
       "      <td>4</td>\n",
       "      <td>24.0</td>\n",
       "      <td>3080632009</td>\n",
       "      <td>42516</td>\n",
       "      <td>Seizure</td>\n",
       "      <td>3</td>\n",
       "      <td>0</td>\n",
       "      <td>0</td>\n",
       "      <td>0</td>\n",
       "      <td>0</td>\n",
       "      <td>0</td>\n",
       "    </tr>\n",
       "  </tbody>\n",
       "</table>\n",
       "</div>"
      ],
      "text/plain": [
       "       eeg_id  eeg_sub_id  eeg_label_offset_seconds  spectrogram_id  \\\n",
       "0  1628180742           0                       0.0          353733   \n",
       "1  1628180742           1                       6.0          353733   \n",
       "2  1628180742           2                       8.0          353733   \n",
       "3  1628180742           3                      18.0          353733   \n",
       "4  1628180742           4                      24.0          353733   \n",
       "\n",
       "   spectrogram_sub_id  spectrogram_label_offset_seconds    label_id  \\\n",
       "0                   0                               0.0   127492639   \n",
       "1                   1                               6.0  3887563113   \n",
       "2                   2                               8.0  1142670488   \n",
       "3                   3                              18.0  2718991173   \n",
       "4                   4                              24.0  3080632009   \n",
       "\n",
       "   patient_id expert_consensus  seizure_vote  lpd_vote  gpd_vote  lrda_vote  \\\n",
       "0       42516          Seizure             3         0         0          0   \n",
       "1       42516          Seizure             3         0         0          0   \n",
       "2       42516          Seizure             3         0         0          0   \n",
       "3       42516          Seizure             3         0         0          0   \n",
       "4       42516          Seizure             3         0         0          0   \n",
       "\n",
       "   grda_vote  other_vote  \n",
       "0          0           0  \n",
       "1          0           0  \n",
       "2          0           0  \n",
       "3          0           0  \n",
       "4          0           0  "
      ]
     },
     "execution_count": 2,
     "metadata": {},
     "output_type": "execute_result"
    }
   ],
   "source": [
    "train.head()"
   ]
  },
  {
   "cell_type": "code",
   "execution_count": 3,
   "metadata": {},
   "outputs": [
    {
     "name": "stderr",
     "output_type": "stream",
     "text": [
      "100%|██████████| 17089/17089 [01:03<00:00, 267.76it/s]"
     ]
    },
    {
     "name": "stdout",
     "output_type": "stream",
     "text": [
      "[684400]\n"
     ]
    },
    {
     "name": "stderr",
     "output_type": "stream",
     "text": [
      "\n"
     ]
    }
   ],
   "source": [
    "# For each row in train, read the corresponding eeg file and extract the 50*200 samples from each eeg_label offset using groupby\n",
    "# and apply\n",
    "import pickle\n",
    "\n",
    "def get_eegs(x, all_eegs, moving_max):\n",
    "    eeg = pq.read_table(f\"../data/raw/train_eegs/{x.eeg_id.iloc[0]}.parquet\").to_pandas()\n",
    "    all_eegs[x.eeg_id.iloc[0]] = eeg\n",
    "    moving_max[0] = max(len(eeg), moving_max[0])\n",
    "\n",
    "\n",
    "\n",
    "all_eegs = dict()\n",
    "moving_max = np.array([0])\n",
    "# read the spectrgormas per eeg id and extract all the 50*200 samples starting from each eeg label offset\n",
    "# If the pickle file exists, load it, otherwise, create it\n",
    "if os.path.exists('all_eegs.pkl'):\n",
    "    all_eegs = pickle.load(open('all_eegs.pkl', 'rb'))\n",
    "else:\n",
    "    train.groupby('eeg_id').progress_apply(lambda x: get_eegs(x, all_eegs, moving_max))\n",
    "print(moving_max)\n",
    "\n"
   ]
  },
  {
   "cell_type": "code",
   "execution_count": 4,
   "metadata": {},
   "outputs": [],
   "source": [
    "# Make a pytorch dataset\n",
    "from scipy.signal import decimate\n",
    "import torch\n",
    "from torch.utils.data import Dataset, DataLoader\n",
    "from torchvision import transforms\n",
    "import time\n",
    "\n",
    "class EEGDataset(Dataset):\n",
    "    def __init__(self, all_eegs, metadata):\n",
    "        self.all_eegs = all_eegs\n",
    "        self.metadata = metadata\n",
    "        self.column_names = None\n",
    "        self.label_names = None\n",
    "\n",
    "    def __len__(self):\n",
    "        return len(self.metadata)\n",
    "\n",
    "    def __getitem__(self, idx):\n",
    "\n",
    "        # get the eeg id from the idx in the metadata\n",
    "        eeg_id = self.metadata.iloc[idx]['eeg_id']\n",
    "        eeg_label_offset_seconds = int(self.metadata.iloc[idx]['eeg_label_offset_seconds'])\n",
    "        eeg = self.all_eegs[eeg_id]\n",
    "        eeg = eeg.iloc[eeg_label_offset_seconds*200:eeg_label_offset_seconds*200 + 50 * 200, :]\n",
    "        self.column_names = eeg.columns\n",
    "        # set nans in eegto 0 if there are any\n",
    "        eeg = eeg.fillna(0)\n",
    "        self.label_names = self.metadata.columns[-6:]\n",
    "        labels = self.metadata.iloc[idx, -6:]\n",
    "        labels /= sum(labels)\n",
    "        eeg_arr = eeg.to_numpy(dtype=np.float32)\n",
    "        # normlize the eegs\n",
    "        eeg_arr -= np.mean(eeg_arr, axis=0)\n",
    "        eeg_arr /= (np.std(eeg_arr, axis=0) + 1e-8)\n",
    "        labels_arr = labels.to_numpy(dtype=np.float32)\n",
    "        return torch.from_numpy(eeg_arr), torch.from_numpy(labels_arr)"
   ]
  },
  {
   "cell_type": "code",
   "execution_count": 5,
   "metadata": {},
   "outputs": [],
   "source": [
    "eeg_dataset = EEGDataset(all_eegs, train)"
   ]
  },
  {
   "cell_type": "code",
   "execution_count": 13,
   "metadata": {},
   "outputs": [
    {
     "name": "stdout",
     "output_type": "stream",
     "text": [
      "CNN1DClassifier(\n",
      "  (conv1): Conv1d(20, 64, kernel_size=(5,), stride=(1,), padding=(2,))\n",
      "  (pool): MaxPool1d(kernel_size=4, stride=4, padding=0, dilation=1, ceil_mode=False)\n",
      "  (conv2): Conv1d(64, 128, kernel_size=(5,), stride=(1,), padding=(2,))\n",
      "  (conv3): Conv1d(128, 256, kernel_size=(5,), stride=(1,), padding=(2,))\n",
      "  (fc1): Linear(in_features=39936, out_features=1024, bias=True)\n",
      "  (fc2): Linear(in_features=1024, out_features=6, bias=True)\n",
      ")\n"
     ]
    }
   ],
   "source": [
    "# make a simple 1d cnn \n",
    "import torch\n",
    "import torch.nn as nn\n",
    "import torch.nn.functional as F\n",
    "\n",
    "class CNN1DClassifier(nn.Module):\n",
    "    def __init__(self, num_classes):\n",
    "        super(CNN1DClassifier, self).__init__()\n",
    "        self.conv1 = nn.Conv1d(in_channels=20, out_channels=64, kernel_size=5, stride=1, padding=2)\n",
    "        self.pool = nn.MaxPool1d(kernel_size=4, stride=4)\n",
    "        self.conv2 = nn.Conv1d(in_channels=64, out_channels=128, kernel_size=5, stride=1, padding=2)\n",
    "        self.conv3 = nn.Conv1d(in_channels=128, out_channels=256, kernel_size=5, stride=1, padding=2)\n",
    "        self.fc1 = nn.Linear(256 * 156, 1024)  # Adjust the input size according to your architecture\n",
    "        self.fc2 = nn.Linear(1024, num_classes)\n",
    "        \n",
    "    def forward(self, x):\n",
    "        x1 = self.pool(F.relu(self.conv1(x)))\n",
    "        x2 = self.pool(F.relu(self.conv2(x1)))\n",
    "        x3 = self.pool(F.relu(self.conv3(x2)))\n",
    "        x4 = x3.view(-1, 256 * 156)  # Flatten the output for the fully connected layer\n",
    "        x5 = F.relu(self.fc1(x4))\n",
    "        x6 = self.fc2(x5)\n",
    "        x6 = torch.softmax(x6, dim=1)\n",
    "        return x6\n",
    "\n",
    "# Example usage\n",
    "num_classes = 6  # For example, 10 classes for classification\n",
    "model = CNN1DClassifier(num_classes=num_classes)\n",
    "model.to('cuda')  # Move the model to the GPU\n",
    "# Print the model\n",
    "print(model)\n",
    "model = nn.DataParallel(model)"
   ]
  },
  {
   "cell_type": "code",
   "execution_count": 14,
   "metadata": {},
   "outputs": [],
   "source": [
    "from typing import Optional\n",
    "def kl_divergence_pytorch(solution: torch.Tensor, submission: torch.Tensor, epsilon: float = 10**-15, sample_weights: Optional[torch.Tensor]=None) -> torch.Tensor:\n",
    "    # Ensure inputs are float tensors\n",
    "    solution = solution.float()\n",
    "    submission = submission.float()\n",
    "    \n",
    "    # Clip submission predictions to avoid division by zero or log of zero\n",
    "    submission = torch.clamp(submission, epsilon, 1 - epsilon)\n",
    "    \n",
    "    # Calculate KL divergence only where solution is non-zero\n",
    "    y_nonzero_indices = solution != 0\n",
    "    kl_div = torch.zeros_like(solution)\n",
    "    kl_div[y_nonzero_indices] = solution[y_nonzero_indices] * torch.log(solution[y_nonzero_indices] / submission[y_nonzero_indices])\n",
    "    \n",
    "    # If sample_weights is provided, compute weighted average; else, compute mean\n",
    "\n",
    "    return torch.mean(torch.sum(kl_div, dim=1))\n",
    "\n",
    "from kaggle_metric import score"
   ]
  },
  {
   "cell_type": "code",
   "execution_count": 44,
   "metadata": {},
   "outputs": [
    {
     "name": "stderr",
     "output_type": "stream",
     "text": [
      "Epoch 0 Train: 100%|██████████| 209/209 [03:47<00:00,  1.09s/batch, kaggle_loss=27.2236, loss=27.2236]\n"
     ]
    },
    {
     "name": "stdout",
     "output_type": "stream",
     "text": [
      "tensor(26.9383)\n",
      "26.938251501884967\n"
     ]
    },
    {
     "name": "stderr",
     "output_type": "stream",
     "text": [
      "Epoch 1 Train:   0%|          | 0/209 [00:00<?, ?batch/s]c:\\Users\\Tolga\\Desktop\\EPOCH-IV\\q3-harmful-brain-activity\\venv\\Lib\\site-packages\\torch\\cuda\\nccl.py:15: UserWarning: PyTorch is not compiled with NCCL support\n",
      "  warnings.warn(\"PyTorch is not compiled with NCCL support\")\n",
      "Epoch 1 Train: 100%|██████████| 209/209 [03:46<00:00,  1.09s/batch, kaggle_loss=27.2239, loss=27.2239]\n"
     ]
    },
    {
     "name": "stdout",
     "output_type": "stream",
     "text": [
      "tensor(26.9382)\n",
      "26.938206295903846\n"
     ]
    },
    {
     "name": "stderr",
     "output_type": "stream",
     "text": [
      "Epoch 2 Train:   0%|          | 0/209 [00:00<?, ?batch/s]c:\\Users\\Tolga\\Desktop\\EPOCH-IV\\q3-harmful-brain-activity\\venv\\Lib\\site-packages\\torch\\cuda\\nccl.py:15: UserWarning: PyTorch is not compiled with NCCL support\n",
      "  warnings.warn(\"PyTorch is not compiled with NCCL support\")\n",
      "Epoch 2 Train: 100%|██████████| 209/209 [03:47<00:00,  1.09s/batch, kaggle_loss=27.2246, loss=27.2246]\n"
     ]
    },
    {
     "name": "stdout",
     "output_type": "stream",
     "text": [
      "tensor(26.9386)\n",
      "26.938612326007505\n"
     ]
    },
    {
     "name": "stderr",
     "output_type": "stream",
     "text": [
      "Epoch 3 Train:   0%|          | 0/209 [00:00<?, ?batch/s]c:\\Users\\Tolga\\Desktop\\EPOCH-IV\\q3-harmful-brain-activity\\venv\\Lib\\site-packages\\torch\\cuda\\nccl.py:15: UserWarning: PyTorch is not compiled with NCCL support\n",
      "  warnings.warn(\"PyTorch is not compiled with NCCL support\")\n",
      "Epoch 3 Train: 100%|██████████| 209/209 [03:49<00:00,  1.10s/batch, kaggle_loss=27.2219, loss=27.2219]\n"
     ]
    },
    {
     "name": "stdout",
     "output_type": "stream",
     "text": [
      "tensor(26.9547)\n",
      "26.954692815407228\n"
     ]
    },
    {
     "name": "stderr",
     "output_type": "stream",
     "text": [
      "Epoch 4 Train:   0%|          | 0/209 [00:00<?, ?batch/s]c:\\Users\\Tolga\\Desktop\\EPOCH-IV\\q3-harmful-brain-activity\\venv\\Lib\\site-packages\\torch\\cuda\\nccl.py:15: UserWarning: PyTorch is not compiled with NCCL support\n",
      "  warnings.warn(\"PyTorch is not compiled with NCCL support\")\n",
      "Epoch 4 Train: 100%|██████████| 209/209 [03:50<00:00,  1.10s/batch, kaggle_loss=27.2226, loss=27.2226]\n"
     ]
    },
    {
     "name": "stdout",
     "output_type": "stream",
     "text": [
      "tensor(26.9570)\n",
      "26.956994153684626\n"
     ]
    }
   ],
   "source": [
    "# Train the model\n",
    "import torch.optim as optim\n",
    "from torch.utils.data import DataLoader\n",
    "import time\n",
    "import copy\n",
    "\n",
    "# Hyperparameters\n",
    "num_epochs = 5\n",
    "learning_rate = 0.05\n",
    "batch_size = 512\n",
    "\n",
    "# Loss and optimizer\n",
    "criterion = nn.KLDivLoss(reduction='batchmean')\n",
    "optimizer = optim.Adam(model.parameters(), lr=learning_rate)\n",
    "\n",
    "# Data loader\n",
    "train_loader = DataLoader(dataset=eeg_dataset, batch_size=batch_size, shuffle=True)\n",
    "\n",
    "# Train the model\n",
    "total_step = len(train_loader)\n",
    "for epoch in range(num_epochs):\n",
    "    losses = []\n",
    "    kaggle_losses = []\n",
    "    preds = []\n",
    "    pbar = tqdm(train_loader, unit=\"batch\", desc=f\"Epoch {epoch} Train\")\n",
    "    for batch in pbar:\n",
    "        X_batch, y_batch = batch\n",
    "        X_batch = X_batch.to('cuda').float()\n",
    "        y_batch = y_batch.to('cuda').float()\n",
    "\n",
    "        # Forward pass\n",
    "        y_pred = model(X_batch.permute(0,2,1)).squeeze(1)\n",
    "        preds.extend(torch.clamp(y_pred, min=10**-15, max=1-10**-15).cpu().detach().numpy())\n",
    "        loss = criterion(torch.log(torch.clamp(y_pred, min=10**-15, max=1-10**-15)), y_batch)\n",
    "        kaggle_loss = kl_divergence_pytorch(y_batch, y_pred, epsilon=10**-15) \n",
    "        # Backward pass\n",
    "        optimizer.zero_grad()\n",
    "        loss.backward()\n",
    "\n",
    "        # torch.nn.utils.clip_grad_norm_(model.parameters(), max_norm=0.5)\n",
    "        optimizer.step()\n",
    "\n",
    "        # Print tqdm\n",
    "        losses.append(loss.item())\n",
    "        kaggle_losses.append(kaggle_loss.item())\n",
    "        # Set the precision o the postfix to 4 decimals\n",
    "        pbar.set_postfix(loss=\"{:.4f}\".format(sum(losses) / len(losses)), kaggle_loss=\"{:.4f}\".format(sum(kaggle_losses) / len(kaggle_losses)))\n",
    "    \n",
    "    preds_df = pd.DataFrame(preds, columns=eeg_dataset.label_names)\n",
    "    # Calculate the score\n",
    "    solution = train.iloc[:, -6:].reset_index(drop=True)\n",
    "    solution_numpy = np.copy(solution.to_numpy(dtype=np.float32))\n",
    "    solution_numpy_norm = np.copy(solution_numpy) / np.sum(solution_numpy, axis=1)[:, np.newaxis]\n",
    "    print(kl_divergence_pytorch(torch.from_numpy(solution_numpy_norm), torch.from_numpy(preds_df.to_numpy(dtype=np.float32)), epsilon=10**-15))\n",
    "    # Add dummy columns for the kaggle code\n",
    "    preds_df['id'] = range(len(preds_df))\n",
    "    solution['id'] = range(len(solution))\n",
    "    id_col = solution.pop('id')\n",
    "    solution = solution.div(solution.sum(axis=1), axis=0)\n",
    "    solution['id'] = id_col\n",
    "    print(score(copy.deepcopy(solution), preds_df, row_id_column_name='id', micro_average=True))\n",
    "    # Remove the cuda cache\n",
    "    torch.cuda.empty_cache()\n",
    "\n"
   ]
  }
 ],
 "metadata": {
  "kernelspec": {
   "display_name": "venv",
   "language": "python",
   "name": "python3"
  },
  "language_info": {
   "codemirror_mode": {
    "name": "ipython",
    "version": 3
   },
   "file_extension": ".py",
   "mimetype": "text/x-python",
   "name": "python",
   "nbconvert_exporter": "python",
   "pygments_lexer": "ipython3",
   "version": "3.11.8"
  }
 },
 "nbformat": 4,
 "nbformat_minor": 2
}
