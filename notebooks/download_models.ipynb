{
 "cells": [
  {
   "cell_type": "code",
   "execution_count": 68,
   "id": "initial_id",
   "metadata": {
    "collapsed": true,
    "ExecuteTime": {
     "end_time": "2024-04-07T19:45:02.998737Z",
     "start_time": "2024-04-07T19:45:02.996850Z"
    }
   },
   "outputs": [],
   "source": [
    "import wandb\n",
    "import os"
   ]
  },
  {
   "cell_type": "code",
   "outputs": [],
   "source": [
    "RUN_PATH = \"team-epoch-iv/detect-harmful-brain-activity/runs/2jscdxom\""
   ],
   "metadata": {
    "collapsed": false,
    "ExecuteTime": {
     "end_time": "2024-04-07T19:45:03.030212Z",
     "start_time": "2024-04-07T19:45:03.024892Z"
    }
   },
   "id": "94380241e94af1f7",
   "execution_count": 69
  },
  {
   "cell_type": "code",
   "outputs": [],
   "source": [
    "api = wandb.Api()\n",
    "run = api.run(f\"{RUN_PATH}\")"
   ],
   "metadata": {
    "collapsed": false,
    "ExecuteTime": {
     "end_time": "2024-04-07T19:45:03.570689Z",
     "start_time": "2024-04-07T19:45:03.030847Z"
    }
   },
   "id": "ae2c4dd22ad97a75",
   "execution_count": 70
  },
  {
   "cell_type": "code",
   "outputs": [
    {
     "name": "stdout",
     "output_type": "stream",
     "text": [
      "Is sweep run: True\n"
     ]
    }
   ],
   "source": [
    "is_sweep_run = run.sweep is not None\n",
    "print(f\"Is sweep run: {is_sweep_run}\")"
   ],
   "metadata": {
    "collapsed": false,
    "ExecuteTime": {
     "end_time": "2024-04-07T19:45:03.573197Z",
     "start_time": "2024-04-07T19:45:03.571420Z"
    }
   },
   "id": "92562b6e69ed6c4e",
   "execution_count": 71
  },
  {
   "cell_type": "code",
   "outputs": [
    {
     "name": "stdout",
     "output_type": "stream",
     "text": [
      "Chris-512:v416\n",
      "Chris-512:v418\n",
      "Chris-512:v420\n",
      "Chris-512:v421\n",
      "Chris-512:v424\n",
      "Chris-512:v425\n",
      "Chris-512:v428\n",
      "Chris-512:v429\n",
      "Chris-512:v431\n",
      "Chris-512:v432\n"
     ]
    }
   ],
   "source": [
    "# list all artefacts\n",
    "model_artefacts = []\n",
    "for artefact in run.logged_artifacts():\n",
    "    if artefact.type == \"model\":\n",
    "        print(artefact.name)\n",
    "        model_artefacts.append(artefact)"
   ],
   "metadata": {
    "collapsed": false,
    "ExecuteTime": {
     "end_time": "2024-04-07T19:45:04.917984Z",
     "start_time": "2024-04-07T19:45:03.574010Z"
    }
   },
   "id": "c6d52454a95ecce5",
   "execution_count": 72
  },
  {
   "cell_type": "code",
   "outputs": [
    {
     "name": "stdout",
     "output_type": "stream",
     "text": [
      "Downloading 1a372b43be0f3babeade76a041e45781_5_f0_s0.pt from Chris-512:v416\n",
      "Downloading 1a372b43be0f3babeade76a041e45781_5_f0_s1.pt from Chris-512:v418\n",
      "Downloading 1a372b43be0f3babeade76a041e45781_5_f1_s0.pt from Chris-512:v420\n",
      "Downloading 1a372b43be0f3babeade76a041e45781_5_f1_s1.pt from Chris-512:v421\n",
      "Downloading 1a372b43be0f3babeade76a041e45781_5_f2_s0.pt from Chris-512:v424\n",
      "Downloading 1a372b43be0f3babeade76a041e45781_5_f2_s1.pt from Chris-512:v425\n",
      "Downloading 1a372b43be0f3babeade76a041e45781_5_f3_s0.pt from Chris-512:v428\n",
      "Downloading 1a372b43be0f3babeade76a041e45781_5_f3_s1.pt from Chris-512:v429\n",
      "Downloading 1a372b43be0f3babeade76a041e45781_5_f4_s0.pt from Chris-512:v431\n",
      "Downloading 1a372b43be0f3babeade76a041e45781_5_f4_s1.pt from Chris-512:v432\n"
     ]
    }
   ],
   "source": [
    "# download all artefacts\n",
    "for artefact in model_artefacts:\n",
    "    for file in artefact.files():\n",
    "        print(f\"Downloading {file.name} from {artefact.name}\")\n",
    "        file.download(root=\"../downloads\")"
   ],
   "metadata": {
    "collapsed": false,
    "ExecuteTime": {
     "end_time": "2024-04-07T19:45:21.885246Z",
     "start_time": "2024-04-07T19:45:04.918470Z"
    }
   },
   "id": "7a09f153f64d2ee2",
   "execution_count": 73
  },
  {
   "cell_type": "code",
   "outputs": [],
   "source": [
    "# get the config type artefact (should be only one)\n",
    "config_artefact = None\n",
    "for artefact in run.logged_artifacts():\n",
    "    if artefact.type == \"config\":\n",
    "        config_artefact = artefact\n",
    "        break"
   ],
   "metadata": {
    "collapsed": false,
    "ExecuteTime": {
     "end_time": "2024-04-07T19:45:22.579211Z",
     "start_time": "2024-04-07T19:45:21.885920Z"
    }
   },
   "id": "52bd8661f37bccc1",
   "execution_count": 74
  },
  {
   "cell_type": "code",
   "outputs": [],
   "source": [
    "if not is_sweep_run:\n",
    "    # download the raw, human readable config file\n",
    "    for file in config_artefact.files():\n",
    "        if file.name not in [\"config.yaml\",\"cv.yaml\",\"train.yaml\"]:\n",
    "            print(f\"Downloading {file.name} from {config_artefact.name}\")\n",
    "            file.download(root=\"../downloads\", replace=True)\n",
    "            # rename the file to the name of the run\n",
    "            os.rename(f\"../downloads/{file.name}\", f\"../downloads/{run.name}\")\n",
    "            print(f\"Renamed to {run.name}\")"
   ],
   "metadata": {
    "collapsed": false,
    "ExecuteTime": {
     "end_time": "2024-04-07T19:45:22.581904Z",
     "start_time": "2024-04-07T19:45:22.579970Z"
    }
   },
   "id": "8254401db6821cf6",
   "execution_count": 75
  },
  {
   "cell_type": "code",
   "outputs": [
    {
     "name": "stdout",
     "output_type": "stream",
     "text": [
      "Downloading config.yaml from cv_config:v948\n",
      "Renamed to connected-type.yaml\n"
     ]
    }
   ],
   "source": [
    "from omegaconf import OmegaConf\n",
    "\n",
    "if is_sweep_run:\n",
    "    # download the file called config.yaml from the artifact, which includes sweep parameters\n",
    "    for file in config_artefact.files():\n",
    "        if file.name == \"config.yaml\":\n",
    "            print(f\"Downloading {file.name} from {config_artefact.name}\")\n",
    "            file.download(root=\"../downloads\", replace=True)\n",
    "            \n",
    "            # read the file into a dictconfig with omegaconf\n",
    "            config = OmegaConf.load(f\"../downloads/{file.name}\")        \n",
    "            config = config.model\n",
    "            # save the config again\n",
    "            OmegaConf.save(config, f\"../downloads/{file.name}\")        \n",
    "            \n",
    "            # rename the file to the name of the run\n",
    "            os.rename(f\"../downloads/{file.name}\", f\"../downloads/{run.name}.yaml\")\n",
    "            print(f\"Renamed to {run.name}.yaml\")\n"
   ],
   "metadata": {
    "collapsed": false,
    "ExecuteTime": {
     "end_time": "2024-04-07T19:45:23.242672Z",
     "start_time": "2024-04-07T19:45:22.582453Z"
    }
   },
   "id": "dd933a4ea120b5f3",
   "execution_count": 76
  }
 ],
 "metadata": {
  "kernelspec": {
   "display_name": "Python 3",
   "language": "python",
   "name": "python3"
  },
  "language_info": {
   "codemirror_mode": {
    "name": "ipython",
    "version": 2
   },
   "file_extension": ".py",
   "mimetype": "text/x-python",
   "name": "python",
   "nbconvert_exporter": "python",
   "pygments_lexer": "ipython2",
   "version": "2.7.6"
  }
 },
 "nbformat": 4,
 "nbformat_minor": 5
}
