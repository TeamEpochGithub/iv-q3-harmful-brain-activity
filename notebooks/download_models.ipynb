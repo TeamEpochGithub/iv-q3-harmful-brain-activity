{
 "cells": [
  {
   "cell_type": "code",
   "execution_count": 22,
   "id": "initial_id",
   "metadata": {
    "collapsed": true,
    "ExecuteTime": {
     "end_time": "2024-04-04T21:46:58.672488Z",
     "start_time": "2024-04-04T21:46:58.669862Z"
    }
   },
   "outputs": [],
   "source": [
    "import wandb\n",
    "import os"
   ]
  },
  {
   "cell_type": "code",
   "outputs": [],
   "source": [
    "RUN_PATH = \"team-epoch-iv/detect-harmful-brain-activity/wkg0bfwe\""
   ],
   "metadata": {
    "collapsed": false,
    "ExecuteTime": {
     "end_time": "2024-04-04T21:46:58.676540Z",
     "start_time": "2024-04-04T21:46:58.674225Z"
    }
   },
   "id": "94380241e94af1f7",
   "execution_count": 23
  },
  {
   "cell_type": "code",
   "outputs": [],
   "source": [
    "api = wandb.Api()\n",
    "run = api.run(f\"{RUN_PATH}\")"
   ],
   "metadata": {
    "collapsed": false,
    "ExecuteTime": {
     "end_time": "2024-04-04T21:46:59.018726Z",
     "start_time": "2024-04-04T21:46:58.677877Z"
    }
   },
   "id": "ae2c4dd22ad97a75",
   "execution_count": 24
  },
  {
   "cell_type": "code",
   "outputs": [
    {
     "name": "stdout",
     "output_type": "stream",
     "text": [
      "EEGNet:v1695\n",
      "EEGNet:v1696\n",
      "EEGNet:v1697\n",
      "EEGNet:v1700\n",
      "EEGNet:v1703\n",
      "EEGNet:v1704\n",
      "EEGNet:v1705\n",
      "EEGNet:v1706\n",
      "EEGNet:v1707\n",
      "EEGNet:v1708\n"
     ]
    }
   ],
   "source": [
    "# list all artefacts\n",
    "model_artefacts = []\n",
    "for artefact in run.logged_artifacts():\n",
    "    if artefact.type == \"model\":\n",
    "        print(artefact.name)\n",
    "        model_artefacts.append(artefact)"
   ],
   "metadata": {
    "collapsed": false,
    "ExecuteTime": {
     "end_time": "2024-04-04T21:47:02.894954Z",
     "start_time": "2024-04-04T21:46:59.020367Z"
    }
   },
   "id": "c6d52454a95ecce5",
   "execution_count": 25
  },
  {
   "cell_type": "code",
   "outputs": [
    {
     "name": "stdout",
     "output_type": "stream",
     "text": [
      "Downloading c2d326d2994215c06ab1a03c986eee66_5_f0_s0.pt from EEGNet:v1695\n",
      "Downloading c2d326d2994215c06ab1a03c986eee66_5_f0_s1.pt from EEGNet:v1696\n",
      "Downloading c2d326d2994215c06ab1a03c986eee66_5_f1_s0.pt from EEGNet:v1697\n",
      "Downloading c2d326d2994215c06ab1a03c986eee66_5_f1_s1.pt from EEGNet:v1700\n",
      "Downloading c2d326d2994215c06ab1a03c986eee66_5_f2_s0.pt from EEGNet:v1703\n",
      "Downloading c2d326d2994215c06ab1a03c986eee66_5_f2_s1.pt from EEGNet:v1704\n",
      "Downloading c2d326d2994215c06ab1a03c986eee66_5_f3_s0.pt from EEGNet:v1705\n",
      "Downloading c2d326d2994215c06ab1a03c986eee66_5_f3_s1.pt from EEGNet:v1706\n",
      "Downloading c2d326d2994215c06ab1a03c986eee66_5_f4_s0.pt from EEGNet:v1707\n",
      "Downloading c2d326d2994215c06ab1a03c986eee66_5_f4_s1.pt from EEGNet:v1708\n"
     ]
    }
   ],
   "source": [
    "# download all artefacts\n",
    "for artefact in model_artefacts:\n",
    "    for file in artefact.files():\n",
    "        print(f\"Downloading {file.name} from {artefact.name}\")\n",
    "        file.download(root=\"../downloads\")"
   ],
   "metadata": {
    "collapsed": false,
    "ExecuteTime": {
     "end_time": "2024-04-04T21:47:13.482876Z",
     "start_time": "2024-04-04T21:47:02.895732Z"
    }
   },
   "id": "7a09f153f64d2ee2",
   "execution_count": 26
  },
  {
   "cell_type": "code",
   "outputs": [],
   "source": [
    "# get the config type artefact (should be only one)\n",
    "config_artefact = None\n",
    "for artefact in run.logged_artifacts():\n",
    "    if artefact.type == \"config\":\n",
    "        config_artefact = artefact\n",
    "        break"
   ],
   "metadata": {
    "collapsed": false,
    "ExecuteTime": {
     "end_time": "2024-04-04T21:47:14.213556Z",
     "start_time": "2024-04-04T21:47:13.485917Z"
    }
   },
   "id": "52bd8661f37bccc1",
   "execution_count": 27
  },
  {
   "cell_type": "code",
   "outputs": [
    {
     "name": "stdout",
     "output_type": "stream",
     "text": [
      "Downloading eeg_net_butter.yaml from cv_config:v775\n",
      "Renamed to simmered-tin\n"
     ]
    }
   ],
   "source": [
    "for file in config_artefact.files():\n",
    "    if file.name not in [\"config.yaml\",\"cv.yaml\",\"train.yaml\"]:\n",
    "        print(f\"Downloading {file.name} from {config_artefact.name}\")\n",
    "        file.download(root=\"../downloads\", replace=True)\n",
    "        # rename the file to the name of the run\n",
    "        os.rename(f\"../downloads/{file.name}\", f\"../downloads/{run.name}\")\n",
    "        print(f\"Renamed to {run.name}\")"
   ],
   "metadata": {
    "collapsed": false,
    "ExecuteTime": {
     "end_time": "2024-04-04T21:47:44.444629Z",
     "start_time": "2024-04-04T21:47:43.871903Z"
    }
   },
   "id": "8254401db6821cf6",
   "execution_count": 30
  }
 ],
 "metadata": {
  "kernelspec": {
   "display_name": "Python 3",
   "language": "python",
   "name": "python3"
  },
  "language_info": {
   "codemirror_mode": {
    "name": "ipython",
    "version": 2
   },
   "file_extension": ".py",
   "mimetype": "text/x-python",
   "name": "python",
   "nbconvert_exporter": "python",
   "pygments_lexer": "ipython2",
   "version": "2.7.6"
  }
 },
 "nbformat": 4,
 "nbformat_minor": 5
}
