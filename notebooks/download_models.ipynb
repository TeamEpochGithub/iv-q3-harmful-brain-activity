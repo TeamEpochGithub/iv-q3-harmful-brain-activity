{
 "cells": [
  {
   "cell_type": "code",
   "execution_count": 17,
   "id": "initial_id",
   "metadata": {
    "ExecuteTime": {
     "end_time": "2024-04-05T07:55:47.271145Z",
     "start_time": "2024-04-05T07:55:47.268378Z"
    },
    "collapsed": true
   },
   "outputs": [],
   "source": [
    "import wandb\n",
    "import os"
   ]
  },
  {
   "cell_type": "code",
   "execution_count": 18,
   "id": "94380241e94af1f7",
   "metadata": {
    "ExecuteTime": {
     "end_time": "2024-04-05T07:55:47.275086Z",
     "start_time": "2024-04-05T07:55:47.272678Z"
    },
    "collapsed": false
   },
   "outputs": [],
   "source": [
    "RUN_PATH = \"team-epoch-iv/detect-harmful-brain-activity/djoprt45\"\n",
    "#\"team-epoch-iv/detect-harmful-brain-activity/apx45m70\" \n",
    "# \"team-epoch-iv/detect-harmful-brain-activity/pq7jg3r1\""
   ]
  },
  {
   "cell_type": "code",
   "execution_count": 19,
   "id": "ae2c4dd22ad97a75",
   "metadata": {
    "ExecuteTime": {
     "end_time": "2024-04-05T07:55:47.798394Z",
     "start_time": "2024-04-05T07:55:47.275903Z"
    },
    "collapsed": false
   },
   "outputs": [],
   "source": [
    "api = wandb.Api()\n",
    "run = api.run(f\"{RUN_PATH}\")"
   ]
  },
  {
   "cell_type": "code",
   "execution_count": 20,
   "id": "92562b6e69ed6c4e",
   "metadata": {
    "ExecuteTime": {
     "end_time": "2024-04-05T07:55:47.801685Z",
     "start_time": "2024-04-05T07:55:47.799617Z"
    },
    "collapsed": false
   },
   "outputs": [
    {
     "name": "stdout",
     "output_type": "stream",
     "text": [
      "Is sweep run: False\n"
     ]
    }
   ],
   "source": [
    "is_sweep_run = run.sweep is not None\n",
    "print(f\"Is sweep run: {is_sweep_run}\")"
   ]
  },
  {
   "cell_type": "code",
   "execution_count": 21,
   "id": "c6d52454a95ecce5",
   "metadata": {
    "ExecuteTime": {
     "end_time": "2024-04-05T07:55:50.821483Z",
     "start_time": "2024-04-05T07:55:47.802381Z"
    },
    "collapsed": false
   },
   "outputs": [
    {
     "name": "stdout",
     "output_type": "stream",
     "text": [
      "EEGNet:v1848\n",
      "EEGNet:v1849\n",
      "EEGNet:v1853\n",
      "EEGNet:v1855\n",
      "EEGNet:v1859\n",
      "EEGNet:v1862\n",
      "EEGNet:v1865\n"
     ]
    }
   ],
   "source": [
    "# list all artefacts\n",
    "model_artefacts = []\n",
    "for artefact in run.logged_artifacts():\n",
    "    if artefact.type == \"model\":\n",
    "        print(artefact.name)\n",
    "        model_artefacts.append(artefact)"
   ]
  },
  {
   "cell_type": "code",
   "execution_count": 23,
   "id": "7a09f153f64d2ee2",
   "metadata": {
    "ExecuteTime": {
     "end_time": "2024-04-05T07:56:03.696241Z",
     "start_time": "2024-04-05T07:55:50.823149Z"
    },
    "collapsed": false
   },
   "outputs": [
    {
     "name": "stdout",
     "output_type": "stream",
     "text": [
      "Downloading 2919e3d1431bfffbaf8ba9f6aa17e237_10_f3_s0.pt from EEGNet:v1848\n",
      "Downloading 2919e3d1431bfffbaf8ba9f6aa17e237_10_f3_s1.pt from EEGNet:v1849\n",
      "Downloading 2919e3d1431bfffbaf8ba9f6aa17e237_10_f4_s0.pt from EEGNet:v1853\n",
      "Downloading 2919e3d1431bfffbaf8ba9f6aa17e237_10_f4_s1.pt from EEGNet:v1855\n",
      "Downloading 2919e3d1431bfffbaf8ba9f6aa17e237_10_f5_s0.pt from EEGNet:v1859\n",
      "Downloading 2919e3d1431bfffbaf8ba9f6aa17e237_10_f5_s1.pt from EEGNet:v1862\n",
      "Downloading 2919e3d1431bfffbaf8ba9f6aa17e237_10_f6_s1.pt from EEGNet:v1865\n"
     ]
    }
   ],
   "source": [
    "# download all artefacts\n",
    "for artefact in model_artefacts:\n",
    "    for file in artefact.files():\n",
    "        print(f\"Downloading {file.name} from {artefact.name}\")\n",
    "        file.download(root=\"../downloads\", exist_ok=True)"
   ]
  },
  {
   "cell_type": "code",
   "execution_count": 24,
   "id": "52bd8661f37bccc1",
   "metadata": {
    "ExecuteTime": {
     "end_time": "2024-04-05T07:56:04.436666Z",
     "start_time": "2024-04-05T07:56:03.698420Z"
    },
    "collapsed": false
   },
   "outputs": [],
   "source": [
    "# get the config type artefact (should be only one)\n",
    "config_artefact = None\n",
    "for artefact in run.logged_artifacts():\n",
    "    if artefact.type == \"config\":\n",
    "        config_artefact = artefact\n",
    "        break"
   ]
  },
  {
   "cell_type": "code",
   "execution_count": 25,
   "id": "8254401db6821cf6",
   "metadata": {
    "ExecuteTime": {
     "end_time": "2024-04-05T07:56:04.439765Z",
     "start_time": "2024-04-05T07:56:04.437472Z"
    },
    "collapsed": false
   },
   "outputs": [
    {
     "name": "stdout",
     "output_type": "stream",
     "text": [
      "Downloading yellow-statement-circ.yaml from cv_config:v969\n"
     ]
    },
    {
     "ename": "FileNotFoundError",
     "evalue": "[Errno 2] No such file or directory: '../downloads/yellow-statement-circ.yaml' -> '../downloads/cyan-venison 3/3'",
     "output_type": "error",
     "traceback": [
      "\u001b[0;31m---------------------------------------------------------------------------\u001b[0m",
      "\u001b[0;31mFileNotFoundError\u001b[0m                         Traceback (most recent call last)",
      "Cell \u001b[0;32mIn[25], line 8\u001b[0m\n\u001b[1;32m      6\u001b[0m file\u001b[38;5;241m.\u001b[39mdownload(root\u001b[38;5;241m=\u001b[39m\u001b[38;5;124m\"\u001b[39m\u001b[38;5;124m../downloads\u001b[39m\u001b[38;5;124m\"\u001b[39m, replace\u001b[38;5;241m=\u001b[39m\u001b[38;5;28;01mTrue\u001b[39;00m)\n\u001b[1;32m      7\u001b[0m \u001b[38;5;66;03m# rename the file to the name of the run\u001b[39;00m\n\u001b[0;32m----> 8\u001b[0m \u001b[43mos\u001b[49m\u001b[38;5;241;43m.\u001b[39;49m\u001b[43mrename\u001b[49m\u001b[43m(\u001b[49m\u001b[38;5;124;43mf\u001b[39;49m\u001b[38;5;124;43m\"\u001b[39;49m\u001b[38;5;124;43m../downloads/\u001b[39;49m\u001b[38;5;132;43;01m{\u001b[39;49;00m\u001b[43mfile\u001b[49m\u001b[38;5;241;43m.\u001b[39;49m\u001b[43mname\u001b[49m\u001b[38;5;132;43;01m}\u001b[39;49;00m\u001b[38;5;124;43m\"\u001b[39;49m\u001b[43m,\u001b[49m\u001b[43m \u001b[49m\u001b[38;5;124;43mf\u001b[39;49m\u001b[38;5;124;43m\"\u001b[39;49m\u001b[38;5;124;43m../downloads/\u001b[39;49m\u001b[38;5;132;43;01m{\u001b[39;49;00m\u001b[43mrun\u001b[49m\u001b[38;5;241;43m.\u001b[39;49m\u001b[43mname\u001b[49m\u001b[38;5;132;43;01m}\u001b[39;49;00m\u001b[38;5;124;43m\"\u001b[39;49m\u001b[43m)\u001b[49m\n\u001b[1;32m      9\u001b[0m \u001b[38;5;28mprint\u001b[39m(\u001b[38;5;124mf\u001b[39m\u001b[38;5;124m\"\u001b[39m\u001b[38;5;124mRenamed to \u001b[39m\u001b[38;5;132;01m{\u001b[39;00mrun\u001b[38;5;241m.\u001b[39mname\u001b[38;5;132;01m}\u001b[39;00m\u001b[38;5;124m\"\u001b[39m)\n",
      "\u001b[0;31mFileNotFoundError\u001b[0m: [Errno 2] No such file or directory: '../downloads/yellow-statement-circ.yaml' -> '../downloads/cyan-venison 3/3'"
     ]
    }
   ],
   "source": [
    "if not is_sweep_run:\n",
    "    # download the raw, human readable config file\n",
    "    for file in config_artefact.files():\n",
    "        if file.name not in [\"config.yaml\",\"cv.yaml\",\"train.yaml\"]:\n",
    "            print(f\"Downloading {file.name} from {config_artefact.name}\")\n",
    "            file.download(root=\"../downloads\", replace=True)\n",
    "            # rename the file to the name of the run\n",
    "            os.rename(f\"../downloads/{file.name}\", f\"../downloads/{run.name}\")\n",
    "            print(f\"Renamed to {run.name}\")"
   ]
  },
  {
   "cell_type": "code",
   "execution_count": null,
   "id": "dd933a4ea120b5f3",
   "metadata": {
    "ExecuteTime": {
     "end_time": "2024-04-05T07:56:05.194898Z",
     "start_time": "2024-04-05T07:56:04.440559Z"
    },
    "collapsed": false
   },
   "outputs": [
    {
     "name": "stdout",
     "output_type": "stream",
     "text": [
      "Downloading config.yaml from cv_config:v882\n",
      "Renamed to bone-merlot.yaml\n"
     ]
    }
   ],
   "source": [
    "from omegaconf import OmegaConf\n",
    "\n",
    "if is_sweep_run:\n",
    "    # download the file called config.yaml from the artifact, which includes sweep parameters\n",
    "    for file in config_artefact.files():\n",
    "        if file.name == \"config.yaml\":\n",
    "            print(f\"Downloading {file.name} from {config_artefact.name}\")\n",
    "            file.download(root=\"../downloads\", replace=True)\n",
    "            \n",
    "            # read the file into a dictconfig with omegaconf\n",
    "            config = OmegaConf.load(f\"../downloads/{file.name}\")        \n",
    "            config = config.model\n",
    "            # save the config again\n",
    "            OmegaConf.save(config, f\"../downloads/{file.name}\")        \n",
    "            \n",
    "            # rename the file to the name of the run\n",
    "            os.rename(f\"../downloads/{file.name}\", f\"../downloads/{run.name}.yaml\")\n",
    "            print(f\"Renamed to {run.name}.yaml\")\n"
   ]
  }
 ],
 "metadata": {
  "kernelspec": {
   "display_name": "Python 3",
   "language": "python",
   "name": "python3"
  },
  "language_info": {
   "codemirror_mode": {
    "name": "ipython",
    "version": 3
   },
   "file_extension": ".py",
   "mimetype": "text/x-python",
   "name": "python",
   "nbconvert_exporter": "python",
   "pygments_lexer": "ipython3",
   "version": "3.11.8"
  }
 },
 "nbformat": 4,
 "nbformat_minor": 5
}
