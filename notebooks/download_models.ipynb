{
 "cells": [
  {
   "cell_type": "code",
   "execution_count": 7,
   "id": "initial_id",
   "metadata": {
    "ExecuteTime": {
     "end_time": "2024-04-05T07:55:47.271145Z",
     "start_time": "2024-04-05T07:55:47.268378Z"
    },
    "collapsed": true
   },
   "outputs": [],
   "source": [
    "import wandb\n",
    "import os"
   ]
  },
  {
   "cell_type": "code",
   "execution_count": 8,
   "id": "94380241e94af1f7",
   "metadata": {
    "ExecuteTime": {
     "end_time": "2024-04-05T07:55:47.275086Z",
     "start_time": "2024-04-05T07:55:47.272678Z"
    },
    "collapsed": false
   },
   "outputs": [],
   "source": [
    "RUN_PATH = \"team-epoch-iv/detect-harmful-brain-activity/seykjhek\""
   ]
  },
  {
   "cell_type": "code",
   "execution_count": 9,
   "id": "ae2c4dd22ad97a75",
   "metadata": {
    "ExecuteTime": {
     "end_time": "2024-04-05T07:55:47.798394Z",
     "start_time": "2024-04-05T07:55:47.275903Z"
    },
    "collapsed": false
   },
   "outputs": [],
   "source": [
    "api = wandb.Api()\n",
    "run = api.run(f\"{RUN_PATH}\")"
   ]
  },
  {
   "cell_type": "code",
   "execution_count": 10,
   "id": "92562b6e69ed6c4e",
   "metadata": {
    "ExecuteTime": {
     "end_time": "2024-04-05T07:55:47.801685Z",
     "start_time": "2024-04-05T07:55:47.799617Z"
    },
    "collapsed": false
   },
   "outputs": [
    {
     "name": "stdout",
     "output_type": "stream",
     "text": [
      "Is sweep run: False\n"
     ]
    }
   ],
   "source": [
    "is_sweep_run = run.sweep is not None\n",
    "print(f\"Is sweep run: {is_sweep_run}\")"
   ]
  },
  {
   "cell_type": "code",
   "execution_count": 11,
   "id": "c6d52454a95ecce5",
   "metadata": {
    "ExecuteTime": {
     "end_time": "2024-04-05T07:55:50.821483Z",
     "start_time": "2024-04-05T07:55:47.802381Z"
    },
    "collapsed": false
   },
   "outputs": [
    {
     "name": "stdout",
     "output_type": "stream",
     "text": [
      "EEGNet:v1782\n",
      "EEGNet:v1785\n",
      "EEGNet:v1787\n",
      "EEGNet:v1789\n",
      "EEGNet:v1792\n",
      "EEGNet:v1794\n",
      "EEGNet:v1797\n",
      "EEGNet:v1799\n",
      "EEGNet:v1801\n",
      "EEGNet:v1803\n",
      "EEGNet:v1805\n",
      "EEGNet:v1807\n",
      "EEGNet:v1810\n",
      "EEGNet:v1811\n",
      "EEGNet:v1816\n",
      "EEGNet:v1817\n",
      "EEGNet:v1818\n",
      "EEGNet:v1819\n",
      "EEGNet:v1820\n",
      "EEGNet:v1821\n"
     ]
    }
   ],
   "source": [
    "# list all artefacts\n",
    "model_artefacts = []\n",
    "for artefact in run.logged_artifacts():\n",
    "    if artefact.type == \"model\":\n",
    "        print(artefact.name)\n",
    "        model_artefacts.append(artefact)"
   ]
  },
  {
   "cell_type": "code",
   "execution_count": 12,
   "id": "7a09f153f64d2ee2",
   "metadata": {
    "ExecuteTime": {
     "end_time": "2024-04-05T07:56:03.696241Z",
     "start_time": "2024-04-05T07:55:50.823149Z"
    },
    "collapsed": false
   },
   "outputs": [
    {
     "name": "stdout",
     "output_type": "stream",
     "text": [
      "Downloading bbcd41f91af8256dc2e2dc21629f53a1_10_f0_s0.pt from EEGNet:v1782\n",
      "Downloading bbcd41f91af8256dc2e2dc21629f53a1_10_f0_s1.pt from EEGNet:v1785\n",
      "Downloading bbcd41f91af8256dc2e2dc21629f53a1_10_f1_s0.pt from EEGNet:v1787\n",
      "Downloading bbcd41f91af8256dc2e2dc21629f53a1_10_f1_s1.pt from EEGNet:v1789\n",
      "Downloading bbcd41f91af8256dc2e2dc21629f53a1_10_f2_s0.pt from EEGNet:v1792\n",
      "Downloading bbcd41f91af8256dc2e2dc21629f53a1_10_f2_s1.pt from EEGNet:v1794\n",
      "Downloading bbcd41f91af8256dc2e2dc21629f53a1_10_f3_s0.pt from EEGNet:v1797\n",
      "Downloading bbcd41f91af8256dc2e2dc21629f53a1_10_f3_s1.pt from EEGNet:v1799\n",
      "Downloading bbcd41f91af8256dc2e2dc21629f53a1_10_f4_s0.pt from EEGNet:v1801\n",
      "Downloading bbcd41f91af8256dc2e2dc21629f53a1_10_f4_s1.pt from EEGNet:v1803\n",
      "Downloading bbcd41f91af8256dc2e2dc21629f53a1_10_f5_s0.pt from EEGNet:v1805\n",
      "Downloading bbcd41f91af8256dc2e2dc21629f53a1_10_f5_s1.pt from EEGNet:v1807\n",
      "Downloading bbcd41f91af8256dc2e2dc21629f53a1_10_f6_s0.pt from EEGNet:v1810\n",
      "Downloading bbcd41f91af8256dc2e2dc21629f53a1_10_f6_s1.pt from EEGNet:v1811\n",
      "Downloading bbcd41f91af8256dc2e2dc21629f53a1_10_f7_s0.pt from EEGNet:v1816\n",
      "Downloading bbcd41f91af8256dc2e2dc21629f53a1_10_f7_s1.pt from EEGNet:v1817\n",
      "Downloading bbcd41f91af8256dc2e2dc21629f53a1_10_f8_s0.pt from EEGNet:v1818\n",
      "Downloading bbcd41f91af8256dc2e2dc21629f53a1_10_f8_s1.pt from EEGNet:v1819\n",
      "Downloading bbcd41f91af8256dc2e2dc21629f53a1_10_f9_s0.pt from EEGNet:v1820\n",
      "Downloading bbcd41f91af8256dc2e2dc21629f53a1_10_f9_s1.pt from EEGNet:v1821\n"
     ]
    }
   ],
   "source": [
    "# download all artefacts\n",
    "for artefact in model_artefacts:\n",
    "    for file in artefact.files():\n",
    "        print(f\"Downloading {file.name} from {artefact.name}\")\n",
    "        file.download(root=\"../downloads\")"
   ]
  },
  {
   "cell_type": "code",
   "execution_count": 13,
   "id": "52bd8661f37bccc1",
   "metadata": {
    "ExecuteTime": {
     "end_time": "2024-04-05T07:56:04.436666Z",
     "start_time": "2024-04-05T07:56:03.698420Z"
    },
    "collapsed": false
   },
   "outputs": [],
   "source": [
    "# get the config type artefact (should be only one)\n",
    "config_artefact = None\n",
    "for artefact in run.logged_artifacts():\n",
    "    if artefact.type == \"config\":\n",
    "        config_artefact = artefact\n",
    "        break"
   ]
  },
  {
   "cell_type": "code",
   "execution_count": 14,
   "id": "8254401db6821cf6",
   "metadata": {
    "ExecuteTime": {
     "end_time": "2024-04-05T07:56:04.439765Z",
     "start_time": "2024-04-05T07:56:04.437472Z"
    },
    "collapsed": false
   },
   "outputs": [
    {
     "name": "stdout",
     "output_type": "stream",
     "text": [
      "Downloading eeg_net_butter.yaml from cv_config:v893\n",
      "Renamed to regular-temple\n"
     ]
    }
   ],
   "source": [
    "if not is_sweep_run:\n",
    "    # download the raw, human readable config file\n",
    "    for file in config_artefact.files():\n",
    "        if file.name not in [\"config.yaml\",\"cv.yaml\",\"train.yaml\"]:\n",
    "            print(f\"Downloading {file.name} from {config_artefact.name}\")\n",
    "            file.download(root=\"../downloads\", replace=True)\n",
    "            # rename the file to the name of the run\n",
    "            os.rename(f\"../downloads/{file.name}\", f\"../downloads/{run.name}\")\n",
    "            print(f\"Renamed to {run.name}\")"
   ]
  },
  {
   "cell_type": "code",
   "execution_count": 15,
   "id": "dd933a4ea120b5f3",
   "metadata": {
    "ExecuteTime": {
     "end_time": "2024-04-05T07:56:05.194898Z",
     "start_time": "2024-04-05T07:56:04.440559Z"
    },
    "collapsed": false
   },
   "outputs": [],
   "source": [
    "from omegaconf import OmegaConf\n",
    "\n",
    "if is_sweep_run:\n",
    "    # download the file called config.yaml from the artifact, which includes sweep parameters\n",
    "    for file in config_artefact.files():\n",
    "        if file.name == \"config.yaml\":\n",
    "            print(f\"Downloading {file.name} from {config_artefact.name}\")\n",
    "            file.download(root=\"../downloads\", replace=True)\n",
    "            \n",
    "            # read the file into a dictconfig with omegaconf\n",
    "            config = OmegaConf.load(f\"../downloads/{file.name}\")        \n",
    "            config = config.model\n",
    "            # save the config again\n",
    "            OmegaConf.save(config, f\"../downloads/{file.name}\")        \n",
    "            \n",
    "            # rename the file to the name of the run\n",
    "            os.rename(f\"../downloads/{file.name}\", f\"../downloads/{run.name}.yaml\")\n",
    "            print(f\"Renamed to {run.name}.yaml\")\n"
   ]
  }
 ],
 "metadata": {
  "kernelspec": {
   "display_name": "Python 3",
   "language": "python",
   "name": "python3"
  },
  "language_info": {
   "codemirror_mode": {
    "name": "ipython",
    "version": 3
   },
   "file_extension": ".py",
   "mimetype": "text/x-python",
   "name": "python",
   "nbconvert_exporter": "python",
   "pygments_lexer": "ipython3",
   "version": "3.11.8"
  }
 },
 "nbformat": 4,
 "nbformat_minor": 5
}
