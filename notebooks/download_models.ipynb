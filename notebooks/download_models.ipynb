{
 "cells": [
  {
   "cell_type": "code",
   "id": "initial_id",
   "metadata": {
    "collapsed": true,
    "ExecuteTime": {
     "end_time": "2024-04-08T22:32:44.404056Z",
     "start_time": "2024-04-08T22:32:44.400773Z"
    }
   },
   "source": [
    "import wandb\n",
    "import os"
   ],
   "outputs": [],
   "execution_count": 73
  },
  {
   "cell_type": "code",
   "id": "94380241e94af1f7",
   "metadata": {
    "collapsed": false,
    "ExecuteTime": {
     "end_time": "2024-04-08T22:32:44.414165Z",
     "start_time": "2024-04-08T22:32:44.412086Z"
    }
   },
   "source": [
    "RUN_PATH = \"team-epoch-iv/detect-harmful-brain-activity/us9xl2nw\"\n",
    "#\"team-epoch-iv/detect-harmful-brain-activity/apx45m70\" \n",
    "# \"team-epoch-iv/detect-harmful-brain-activity/pq7jg3r1\""
   ],
   "outputs": [],
   "execution_count": 74
  },
  {
   "cell_type": "code",
   "id": "ae2c4dd22ad97a75",
   "metadata": {
    "collapsed": false,
    "ExecuteTime": {
     "end_time": "2024-04-08T22:32:44.729668Z",
     "start_time": "2024-04-08T22:32:44.415655Z"
    }
   },
   "source": [
    "api = wandb.Api()\n",
    "run = api.run(f\"{RUN_PATH}\")"
   ],
   "outputs": [],
   "execution_count": 75
  },
  {
   "cell_type": "code",
   "id": "92562b6e69ed6c4e",
   "metadata": {
    "collapsed": false,
    "ExecuteTime": {
     "end_time": "2024-04-08T22:32:44.732842Z",
     "start_time": "2024-04-08T22:32:44.730484Z"
    }
   },
   "source": [
    "is_sweep_run = run.sweep is not None\n",
    "print(f\"Is sweep run: {is_sweep_run}\")"
   ],
   "outputs": [
    {
     "name": "stdout",
     "output_type": "stream",
     "text": [
      "Is sweep run: False\n"
     ]
    }
   ],
   "execution_count": 76
  },
  {
   "cell_type": "code",
   "id": "c6d52454a95ecce5",
   "metadata": {
    "collapsed": false,
    "ExecuteTime": {
     "end_time": "2024-04-08T22:32:45.881958Z",
     "start_time": "2024-04-08T22:32:44.733913Z"
    }
   },
   "source": [
    "# list all artefacts\n",
    "model_artefacts = []\n",
    "for artefact in run.logged_artifacts():\n",
    "    if artefact.type == \"model\":\n",
    "        print(artefact.name)\n",
    "        model_artefacts.append(artefact)"
   ],
   "outputs": [
    {
     "name": "stdout",
     "output_type": "stream",
     "text": [
      "Chris-512:v523\n",
      "Chris-512:v525\n",
      "Chris-512:v529\n",
      "Chris-512:v530\n",
      "Chris-512:v536\n",
      "Chris-512:v537\n",
      "Chris-512:v541\n",
      "Chris-512:v543\n"
     ]
    }
   ],
   "execution_count": 77
  },
  {
   "cell_type": "code",
   "id": "7a09f153f64d2ee2",
   "metadata": {
    "collapsed": false,
    "ExecuteTime": {
     "end_time": "2024-04-08T22:32:49.424725Z",
     "start_time": "2024-04-08T22:32:45.882691Z"
    }
   },
   "source": [
    "# download all artefacts\n",
    "for artefact in model_artefacts:\n",
    "    for file in artefact.files():\n",
    "        print(f\"Downloading {file.name} from {artefact.name}\")\n",
    "        file.download(root=\"../downloads\", exist_ok=True)"
   ],
   "outputs": [
    {
     "name": "stdout",
     "output_type": "stream",
     "text": [
      "Downloading 8344b292519b2a92a7c01773a7583dc7_10_f0_s0.pt from Chris-512:v523\n",
      "Downloading 8344b292519b2a92a7c01773a7583dc7_10_f0_s1.pt from Chris-512:v525\n",
      "Downloading 8344b292519b2a92a7c01773a7583dc7_10_f1_s0.pt from Chris-512:v529\n",
      "Downloading 8344b292519b2a92a7c01773a7583dc7_10_f1_s1.pt from Chris-512:v530\n",
      "Downloading 8344b292519b2a92a7c01773a7583dc7_10_f2_s0.pt from Chris-512:v536\n",
      "Downloading 8344b292519b2a92a7c01773a7583dc7_10_f2_s1.pt from Chris-512:v537\n",
      "Downloading 8344b292519b2a92a7c01773a7583dc7_10_f3_s0.pt from Chris-512:v541\n",
      "Downloading 8344b292519b2a92a7c01773a7583dc7_10_f3_s1.pt from Chris-512:v543\n"
     ]
    }
   ],
   "execution_count": 78
  },
  {
   "cell_type": "code",
   "id": "52bd8661f37bccc1",
   "metadata": {
    "collapsed": false,
    "ExecuteTime": {
     "end_time": "2024-04-08T22:32:50.247829Z",
     "start_time": "2024-04-08T22:32:49.425777Z"
    }
   },
   "source": [
    "# get the config type artefact (should be only one)\n",
    "config_artefact = None\n",
    "for artefact in run.logged_artifacts():\n",
    "    if artefact.type == \"config\":\n",
    "        config_artefact = artefact\n",
    "        break"
   ],
   "outputs": [],
   "execution_count": 79
  },
  {
   "cell_type": "code",
   "id": "8254401db6821cf6",
   "metadata": {
    "collapsed": false,
    "ExecuteTime": {
     "end_time": "2024-04-08T22:32:50.836998Z",
     "start_time": "2024-04-08T22:32:50.248754Z"
    }
   },
   "source": [
    "if not is_sweep_run:\n",
    "    # download the raw, human readable config file\n",
    "    for file in config_artefact.files():\n",
    "        if file.name not in [\"config.yaml\",\"cv.yaml\",\"train.yaml\"]:\n",
    "            print(f\"Downloading {file.name} from {config_artefact.name}\")\n",
    "            file.download(root=\"../downloads\", replace=True)\n",
    "            # rename the file to the name of the run\n",
    "            os.rename(f\"../downloads/{file.name}\", f\"../downloads/{run.name}\")\n",
    "            print(f\"Renamed to {run.name}\")"
   ],
   "outputs": [
    {
     "name": "stdout",
     "output_type": "stream",
     "text": [
      "Downloading spectro.yaml from cv_config:v1098\n",
      "Renamed to persistent-inning\n"
     ]
    }
   ],
   "execution_count": 80
  },
  {
   "cell_type": "code",
   "id": "dd933a4ea120b5f3",
   "metadata": {
    "collapsed": false,
    "ExecuteTime": {
     "end_time": "2024-04-08T22:32:50.844279Z",
     "start_time": "2024-04-08T22:32:50.839096Z"
    }
   },
   "source": [
    "from omegaconf import OmegaConf\n",
    "\n",
    "if is_sweep_run:\n",
    "    # download the file called config.yaml from the artifact, which includes sweep parameters\n",
    "    for file in config_artefact.files():\n",
    "        if file.name == \"config.yaml\":\n",
    "            print(f\"Downloading {file.name} from {config_artefact.name}\")\n",
    "            file.download(root=\"../downloads\", replace=True)\n",
    "            \n",
    "            # read the file into a dictconfig with omegaconf\n",
    "            config = OmegaConf.load(f\"../downloads/{file.name}\")        \n",
    "            config = config.model\n",
    "            # save the config again\n",
    "            OmegaConf.save(config, f\"../downloads/{file.name}\")        \n",
    "            \n",
    "            # rename the file to the name of the run\n",
    "            os.rename(f\"../downloads/{file.name}\", f\"../downloads/{run.name}.yaml\")\n",
    "            print(f\"Renamed to {run.name}.yaml\")\n"
   ],
   "outputs": [],
   "execution_count": 81
  }
 ],
 "metadata": {
  "kernelspec": {
   "display_name": "Python 3",
   "language": "python",
   "name": "python3"
  },
  "language_info": {
   "codemirror_mode": {
    "name": "ipython",
    "version": 3
   },
   "file_extension": ".py",
   "mimetype": "text/x-python",
   "name": "python",
   "nbconvert_exporter": "python",
   "pygments_lexer": "ipython3",
   "version": "3.11.8"
  }
 },
 "nbformat": 4,
 "nbformat_minor": 5
}
