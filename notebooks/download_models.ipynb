{
 "cells": [
  {
   "cell_type": "code",
   "execution_count": 50,
   "id": "initial_id",
   "metadata": {
    "collapsed": true,
    "ExecuteTime": {
     "end_time": "2024-04-07T19:30:26.429390Z",
     "start_time": "2024-04-07T19:30:26.427511Z"
    }
   },
   "outputs": [],
   "source": [
    "import wandb\n",
    "import os"
   ]
  },
  {
   "cell_type": "code",
   "outputs": [],
   "source": [
    "RUN_PATH = \"team-epoch-iv/detect-harmful-brain-activity/runs/vm5pnb5l\""
   ],
   "metadata": {
    "collapsed": false,
    "ExecuteTime": {
     "end_time": "2024-04-07T19:30:26.476692Z",
     "start_time": "2024-04-07T19:30:26.474749Z"
    }
   },
   "id": "94380241e94af1f7",
   "execution_count": 51
  },
  {
   "cell_type": "code",
   "outputs": [],
   "source": [
    "api = wandb.Api()\n",
    "run = api.run(f\"{RUN_PATH}\")"
   ],
   "metadata": {
    "collapsed": false,
    "ExecuteTime": {
     "end_time": "2024-04-07T19:30:26.858048Z",
     "start_time": "2024-04-07T19:30:26.477520Z"
    }
   },
   "id": "ae2c4dd22ad97a75",
   "execution_count": 52
  },
  {
   "cell_type": "code",
   "outputs": [
    {
     "name": "stdout",
     "output_type": "stream",
     "text": [
      "Is sweep run: False\n"
     ]
    }
   ],
   "source": [
    "is_sweep_run = run.sweep is not None\n",
    "print(f\"Is sweep run: {is_sweep_run}\")"
   ],
   "metadata": {
    "collapsed": false,
    "ExecuteTime": {
     "end_time": "2024-04-07T19:30:26.860875Z",
     "start_time": "2024-04-07T19:30:26.859028Z"
    }
   },
   "id": "92562b6e69ed6c4e",
   "execution_count": 53
  },
  {
   "cell_type": "code",
   "outputs": [
    {
     "name": "stdout",
     "output_type": "stream",
     "text": [
      "MultiResidualBiGRU:v353\n",
      "MultiResidualBiGRU:v354\n",
      "MultiResidualBiGRU:v357\n",
      "MultiResidualBiGRU:v358\n",
      "MultiResidualBiGRU:v361\n",
      "MultiResidualBiGRU:v362\n",
      "MultiResidualBiGRU:v365\n",
      "MultiResidualBiGRU:v366\n",
      "MultiResidualBiGRU:v369\n",
      "MultiResidualBiGRU:v370\n",
      "MultiResidualBiGRU:v374\n",
      "MultiResidualBiGRU:v376\n",
      "MultiResidualBiGRU:v379\n",
      "MultiResidualBiGRU:v382\n",
      "MultiResidualBiGRU:v385\n",
      "MultiResidualBiGRU:v386\n",
      "MultiResidualBiGRU:v389\n",
      "MultiResidualBiGRU:v392\n",
      "MultiResidualBiGRU:v395\n",
      "MultiResidualBiGRU:v396\n"
     ]
    }
   ],
   "source": [
    "# list all artefacts\n",
    "model_artefacts = []\n",
    "for artefact in run.logged_artifacts():\n",
    "    if artefact.type == \"model\":\n",
    "        print(artefact.name)\n",
    "        model_artefacts.append(artefact)"
   ],
   "metadata": {
    "collapsed": false,
    "ExecuteTime": {
     "end_time": "2024-04-07T19:30:32.049678Z",
     "start_time": "2024-04-07T19:30:26.861451Z"
    }
   },
   "id": "c6d52454a95ecce5",
   "execution_count": 54
  },
  {
   "cell_type": "code",
   "outputs": [
    {
     "name": "stdout",
     "output_type": "stream",
     "text": [
      "Downloading 0cf1bb4979518ac39906f2f1af462a39_10_f0_s0.pt from MultiResidualBiGRU:v353\n",
      "Downloading 0cf1bb4979518ac39906f2f1af462a39_10_f0_s1.pt from MultiResidualBiGRU:v354\n",
      "Downloading 0cf1bb4979518ac39906f2f1af462a39_10_f1_s0.pt from MultiResidualBiGRU:v357\n",
      "Downloading 0cf1bb4979518ac39906f2f1af462a39_10_f1_s1.pt from MultiResidualBiGRU:v358\n",
      "Downloading 0cf1bb4979518ac39906f2f1af462a39_10_f2_s0.pt from MultiResidualBiGRU:v361\n",
      "Downloading 0cf1bb4979518ac39906f2f1af462a39_10_f2_s1.pt from MultiResidualBiGRU:v362\n",
      "Downloading 0cf1bb4979518ac39906f2f1af462a39_10_f3_s0.pt from MultiResidualBiGRU:v365\n",
      "Downloading 0cf1bb4979518ac39906f2f1af462a39_10_f3_s1.pt from MultiResidualBiGRU:v366\n",
      "Downloading 0cf1bb4979518ac39906f2f1af462a39_10_f4_s0.pt from MultiResidualBiGRU:v369\n",
      "Downloading 0cf1bb4979518ac39906f2f1af462a39_10_f4_s1.pt from MultiResidualBiGRU:v370\n",
      "Downloading 0cf1bb4979518ac39906f2f1af462a39_10_f5_s0.pt from MultiResidualBiGRU:v374\n",
      "Downloading 0cf1bb4979518ac39906f2f1af462a39_10_f5_s1.pt from MultiResidualBiGRU:v376\n",
      "Downloading 0cf1bb4979518ac39906f2f1af462a39_10_f6_s0.pt from MultiResidualBiGRU:v379\n",
      "Downloading 0cf1bb4979518ac39906f2f1af462a39_10_f6_s1.pt from MultiResidualBiGRU:v382\n",
      "Downloading 0cf1bb4979518ac39906f2f1af462a39_10_f7_s0.pt from MultiResidualBiGRU:v385\n",
      "Downloading 0cf1bb4979518ac39906f2f1af462a39_10_f7_s1.pt from MultiResidualBiGRU:v386\n",
      "Downloading 0cf1bb4979518ac39906f2f1af462a39_10_f8_s0.pt from MultiResidualBiGRU:v389\n",
      "Downloading 0cf1bb4979518ac39906f2f1af462a39_10_f8_s1.pt from MultiResidualBiGRU:v392\n",
      "Downloading 0cf1bb4979518ac39906f2f1af462a39_10_f9_s0.pt from MultiResidualBiGRU:v395\n",
      "Downloading 0cf1bb4979518ac39906f2f1af462a39_10_f9_s1.pt from MultiResidualBiGRU:v396\n"
     ]
    }
   ],
   "source": [
    "# download all artefacts\n",
    "for artefact in model_artefacts:\n",
    "    for file in artefact.files():\n",
    "        print(f\"Downloading {file.name} from {artefact.name}\")\n",
    "        file.download(root=\"../downloads\")"
   ],
   "metadata": {
    "collapsed": false,
    "ExecuteTime": {
     "end_time": "2024-04-07T19:30:55.359606Z",
     "start_time": "2024-04-07T19:30:32.050522Z"
    }
   },
   "id": "7a09f153f64d2ee2",
   "execution_count": 55
  },
  {
   "cell_type": "code",
   "outputs": [],
   "source": [
    "# get the config type artefact (should be only one)\n",
    "config_artefact = None\n",
    "for artefact in run.logged_artifacts():\n",
    "    if artefact.type == \"config\":\n",
    "        config_artefact = artefact\n",
    "        break"
   ],
   "metadata": {
    "collapsed": false,
    "ExecuteTime": {
     "end_time": "2024-04-07T19:30:56.222035Z",
     "start_time": "2024-04-07T19:30:55.360673Z"
    }
   },
   "id": "52bd8661f37bccc1",
   "execution_count": 56
  },
  {
   "cell_type": "code",
   "outputs": [
    {
     "name": "stdout",
     "output_type": "stream",
     "text": [
      "Downloading multi_res_bi_gru.yaml from cv_config:v876\n",
      "Renamed to cream-game\n"
     ]
    }
   ],
   "source": [
    "if not is_sweep_run:\n",
    "    # download the raw, human readable config file\n",
    "    for file in config_artefact.files():\n",
    "        if file.name not in [\"config.yaml\",\"cv.yaml\",\"train.yaml\"]:\n",
    "            print(f\"Downloading {file.name} from {config_artefact.name}\")\n",
    "            file.download(root=\"../downloads\", replace=True)\n",
    "            # rename the file to the name of the run\n",
    "            os.rename(f\"../downloads/{file.name}\", f\"../downloads/{run.name}\")\n",
    "            print(f\"Renamed to {run.name}\")"
   ],
   "metadata": {
    "collapsed": false,
    "ExecuteTime": {
     "end_time": "2024-04-07T19:30:56.838382Z",
     "start_time": "2024-04-07T19:30:56.222923Z"
    }
   },
   "id": "8254401db6821cf6",
   "execution_count": 57
  },
  {
   "cell_type": "code",
   "outputs": [],
   "source": [
    "from omegaconf import OmegaConf\n",
    "\n",
    "if is_sweep_run:\n",
    "    # download the file called config.yaml from the artifact, which includes sweep parameters\n",
    "    for file in config_artefact.files():\n",
    "        if file.name == \"config.yaml\":\n",
    "            print(f\"Downloading {file.name} from {config_artefact.name}\")\n",
    "            file.download(root=\"../downloads\", replace=True)\n",
    "            \n",
    "            # read the file into a dictconfig with omegaconf\n",
    "            config = OmegaConf.load(f\"../downloads/{file.name}\")        \n",
    "            config = config.model\n",
    "            # save the config again\n",
    "            OmegaConf.save(config, f\"../downloads/{file.name}\")        \n",
    "            \n",
    "            # rename the file to the name of the run\n",
    "            os.rename(f\"../downloads/{file.name}\", f\"../downloads/{run.name}.yaml\")\n",
    "            print(f\"Renamed to {run.name}.yaml\")\n"
   ],
   "metadata": {
    "collapsed": false,
    "ExecuteTime": {
     "end_time": "2024-04-07T19:30:56.841421Z",
     "start_time": "2024-04-07T19:30:56.839138Z"
    }
   },
   "id": "dd933a4ea120b5f3",
   "execution_count": 58
  }
 ],
 "metadata": {
  "kernelspec": {
   "display_name": "Python 3",
   "language": "python",
   "name": "python3"
  },
  "language_info": {
   "codemirror_mode": {
    "name": "ipython",
    "version": 2
   },
   "file_extension": ".py",
   "mimetype": "text/x-python",
   "name": "python",
   "nbconvert_exporter": "python",
   "pygments_lexer": "ipython2",
   "version": "2.7.6"
  }
 },
 "nbformat": 4,
 "nbformat_minor": 5
}
