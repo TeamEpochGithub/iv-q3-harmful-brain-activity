{
 "cells": [
  {
   "cell_type": "code",
   "execution_count": 24,
   "id": "initial_id",
   "metadata": {
    "collapsed": true,
    "ExecuteTime": {
     "end_time": "2024-04-05T07:55:47.271145Z",
     "start_time": "2024-04-05T07:55:47.268378Z"
    }
   },
   "outputs": [],
   "source": [
    "import wandb\n",
    "import os"
   ]
  },
  {
   "cell_type": "code",
   "outputs": [],
   "source": [
    "RUN_PATH = \"team-epoch-iv/detect-harmful-brain-activity/qokkttvz\""
   ],
   "metadata": {
    "collapsed": false,
    "ExecuteTime": {
     "end_time": "2024-04-05T07:55:47.275086Z",
     "start_time": "2024-04-05T07:55:47.272678Z"
    }
   },
   "id": "94380241e94af1f7",
   "execution_count": 25
  },
  {
   "cell_type": "code",
   "outputs": [],
   "source": [
    "api = wandb.Api()\n",
    "run = api.run(f\"{RUN_PATH}\")"
   ],
   "metadata": {
    "collapsed": false,
    "ExecuteTime": {
     "end_time": "2024-04-05T07:55:47.798394Z",
     "start_time": "2024-04-05T07:55:47.275903Z"
    }
   },
   "id": "ae2c4dd22ad97a75",
   "execution_count": 26
  },
  {
   "cell_type": "code",
   "outputs": [
    {
     "name": "stdout",
     "output_type": "stream",
     "text": [
      "Is sweep run: True\n"
     ]
    }
   ],
   "source": [
    "is_sweep_run = run.sweep is not None\n",
    "print(f\"Is sweep run: {is_sweep_run}\")"
   ],
   "metadata": {
    "collapsed": false,
    "ExecuteTime": {
     "end_time": "2024-04-05T07:55:47.801685Z",
     "start_time": "2024-04-05T07:55:47.799617Z"
    }
   },
   "id": "92562b6e69ed6c4e",
   "execution_count": 27
  },
  {
   "cell_type": "code",
   "outputs": [
    {
     "name": "stdout",
     "output_type": "stream",
     "text": [
      "MultiResidualBiGRU:v25\n",
      "MultiResidualBiGRU:v30\n",
      "MultiResidualBiGRU:v37\n",
      "MultiResidualBiGRU:v43\n",
      "MultiResidualBiGRU:v47\n",
      "MultiResidualBiGRU:v51\n",
      "MultiResidualBiGRU:v56\n",
      "MultiResidualBiGRU:v59\n",
      "MultiResidualBiGRU:v64\n",
      "MultiResidualBiGRU:v68\n"
     ]
    }
   ],
   "source": [
    "# list all artefacts\n",
    "model_artefacts = []\n",
    "for artefact in run.logged_artifacts():\n",
    "    if artefact.type == \"model\":\n",
    "        print(artefact.name)\n",
    "        model_artefacts.append(artefact)"
   ],
   "metadata": {
    "collapsed": false,
    "ExecuteTime": {
     "end_time": "2024-04-05T07:55:50.821483Z",
     "start_time": "2024-04-05T07:55:47.802381Z"
    }
   },
   "id": "c6d52454a95ecce5",
   "execution_count": 28
  },
  {
   "cell_type": "code",
   "outputs": [
    {
     "name": "stdout",
     "output_type": "stream",
     "text": [
      "Downloading eaaead8f9c523a5ab22cd7c16c56d03a_5_f0_s0.pt from MultiResidualBiGRU:v25\n",
      "Downloading eaaead8f9c523a5ab22cd7c16c56d03a_5_f0_s1.pt from MultiResidualBiGRU:v30\n",
      "Downloading eaaead8f9c523a5ab22cd7c16c56d03a_5_f1_s0.pt from MultiResidualBiGRU:v37\n",
      "Downloading eaaead8f9c523a5ab22cd7c16c56d03a_5_f1_s1.pt from MultiResidualBiGRU:v43\n",
      "Downloading eaaead8f9c523a5ab22cd7c16c56d03a_5_f2_s0.pt from MultiResidualBiGRU:v47\n",
      "Downloading eaaead8f9c523a5ab22cd7c16c56d03a_5_f2_s1.pt from MultiResidualBiGRU:v51\n",
      "Downloading eaaead8f9c523a5ab22cd7c16c56d03a_5_f3_s0.pt from MultiResidualBiGRU:v56\n",
      "Downloading eaaead8f9c523a5ab22cd7c16c56d03a_5_f3_s1.pt from MultiResidualBiGRU:v59\n",
      "Downloading eaaead8f9c523a5ab22cd7c16c56d03a_5_f4_s0.pt from MultiResidualBiGRU:v64\n",
      "Downloading eaaead8f9c523a5ab22cd7c16c56d03a_5_f4_s1.pt from MultiResidualBiGRU:v68\n"
     ]
    }
   ],
   "source": [
    "# download all artefacts\n",
    "for artefact in model_artefacts:\n",
    "    for file in artefact.files():\n",
    "        print(f\"Downloading {file.name} from {artefact.name}\")\n",
    "        file.download(root=\"../downloads\")"
   ],
   "metadata": {
    "collapsed": false,
    "ExecuteTime": {
     "end_time": "2024-04-05T07:56:03.696241Z",
     "start_time": "2024-04-05T07:55:50.823149Z"
    }
   },
   "id": "7a09f153f64d2ee2",
   "execution_count": 29
  },
  {
   "cell_type": "code",
   "outputs": [],
   "source": [
    "# get the config type artefact (should be only one)\n",
    "config_artefact = None\n",
    "for artefact in run.logged_artifacts():\n",
    "    if artefact.type == \"config\":\n",
    "        config_artefact = artefact\n",
    "        break"
   ],
   "metadata": {
    "collapsed": false,
    "ExecuteTime": {
     "end_time": "2024-04-05T07:56:04.436666Z",
     "start_time": "2024-04-05T07:56:03.698420Z"
    }
   },
   "id": "52bd8661f37bccc1",
   "execution_count": 30
  },
  {
   "cell_type": "code",
   "outputs": [],
   "source": [
    "if not is_sweep_run:\n",
    "    # download the raw, human readable config file\n",
    "    for file in config_artefact.files():\n",
    "        if file.name not in [\"config.yaml\",\"cv.yaml\",\"train.yaml\"]:\n",
    "            print(f\"Downloading {file.name} from {config_artefact.name}\")\n",
    "            file.download(root=\"../downloads\", replace=True)\n",
    "            # rename the file to the name of the run\n",
    "            os.rename(f\"../downloads/{file.name}\", f\"../downloads/{run.name}\")\n",
    "            print(f\"Renamed to {run.name}\")"
   ],
   "metadata": {
    "collapsed": false,
    "ExecuteTime": {
     "end_time": "2024-04-05T07:56:04.439765Z",
     "start_time": "2024-04-05T07:56:04.437472Z"
    }
   },
   "id": "8254401db6821cf6",
   "execution_count": 31
  },
  {
   "cell_type": "code",
   "outputs": [
    {
     "name": "stdout",
     "output_type": "stream",
     "text": [
      "Downloading config.yaml from cv_config:v797\n",
      "Renamed to flush-partnership.yaml\n"
     ]
    }
   ],
   "source": [
    "from omegaconf import OmegaConf\n",
    "\n",
    "if is_sweep_run:\n",
    "    # download the file called config.yaml from the artifact, which includes sweep parameters\n",
    "    for file in config_artefact.files():\n",
    "        if file.name == \"config.yaml\":\n",
    "            print(f\"Downloading {file.name} from {config_artefact.name}\")\n",
    "            file.download(root=\"../downloads\", replace=True)\n",
    "            \n",
    "            # read the file into a dictconfig with omegaconf\n",
    "            config = OmegaConf.load(f\"../downloads/{file.name}\")        \n",
    "            config = config.model\n",
    "            # save the config again\n",
    "            OmegaConf.save(config, f\"../downloads/{file.name}\")        \n",
    "            \n",
    "            # rename the file to the name of the run\n",
    "            os.rename(f\"../downloads/{file.name}\", f\"../downloads/{run.name}.yaml\")\n",
    "            print(f\"Renamed to {run.name}.yaml\")\n"
   ],
   "metadata": {
    "collapsed": false,
    "ExecuteTime": {
     "end_time": "2024-04-05T07:56:05.194898Z",
     "start_time": "2024-04-05T07:56:04.440559Z"
    }
   },
   "id": "dd933a4ea120b5f3",
   "execution_count": 32
  }
 ],
 "metadata": {
  "kernelspec": {
   "display_name": "Python 3",
   "language": "python",
   "name": "python3"
  },
  "language_info": {
   "codemirror_mode": {
    "name": "ipython",
    "version": 2
   },
   "file_extension": ".py",
   "mimetype": "text/x-python",
   "name": "python",
   "nbconvert_exporter": "python",
   "pygments_lexer": "ipython2",
   "version": "2.7.6"
  }
 },
 "nbformat": 4,
 "nbformat_minor": 5
}
