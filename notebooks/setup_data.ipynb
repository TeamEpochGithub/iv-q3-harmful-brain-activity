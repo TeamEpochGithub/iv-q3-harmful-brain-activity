{
 "cells": [
  {
   "cell_type": "code",
   "outputs": [],
   "source": [
    "import pyarrow.parquet as pq\n",
    "import os\n",
    "from tqdm import tqdm\n",
    "\n",
    "import pandas as pd\n",
    "tqdm.pandas()"
   ],
   "metadata": {
    "collapsed": false,
    "ExecuteTime": {
     "end_time": "2024-02-28T15:04:38.427658Z",
     "start_time": "2024-02-28T15:04:38.266497Z"
    }
   },
   "id": "980845fe7b4c122f",
   "execution_count": 1
  },
  {
   "cell_type": "markdown",
   "source": [
    "### Loading all data\n",
    "\n",
    "#### Load Y"
   ],
   "metadata": {
    "collapsed": false
   },
   "id": "c79a5629dfde1fd1"
  },
  {
   "cell_type": "code",
   "outputs": [],
   "source": [
    "#Load the train dataframe\n",
    "train_df = pd.read_csv('../data/train.csv')\n",
    "test_df = pd.read_csv('../data/test.csv')"
   ],
   "metadata": {
    "collapsed": false,
    "ExecuteTime": {
     "end_time": "2024-02-28T15:04:38.485159Z",
     "start_time": "2024-02-28T15:04:38.428670Z"
    }
   },
   "id": "f96475a1bb65d2ef",
   "execution_count": 2
  },
  {
   "cell_type": "code",
   "outputs": [
    {
     "data": {
      "text/plain": "       eeg_id  eeg_sub_id  eeg_label_offset_seconds  spectrogram_id  \\\n0  1628180742           0                       0.0          353733   \n1  1628180742           1                       6.0          353733   \n2  1628180742           2                       8.0          353733   \n3  1628180742           3                      18.0          353733   \n4  1628180742           4                      24.0          353733   \n\n   spectrogram_sub_id  spectrogram_label_offset_seconds    label_id  \\\n0                   0                               0.0   127492639   \n1                   1                               6.0  3887563113   \n2                   2                               8.0  1142670488   \n3                   3                              18.0  2718991173   \n4                   4                              24.0  3080632009   \n\n   patient_id expert_consensus  seizure_vote  lpd_vote  gpd_vote  lrda_vote  \\\n0       42516          Seizure             3         0         0          0   \n1       42516          Seizure             3         0         0          0   \n2       42516          Seizure             3         0         0          0   \n3       42516          Seizure             3         0         0          0   \n4       42516          Seizure             3         0         0          0   \n\n   grda_vote  other_vote  \n0          0           0  \n1          0           0  \n2          0           0  \n3          0           0  \n4          0           0  ",
      "text/html": "<div>\n<style scoped>\n    .dataframe tbody tr th:only-of-type {\n        vertical-align: middle;\n    }\n\n    .dataframe tbody tr th {\n        vertical-align: top;\n    }\n\n    .dataframe thead th {\n        text-align: right;\n    }\n</style>\n<table border=\"1\" class=\"dataframe\">\n  <thead>\n    <tr style=\"text-align: right;\">\n      <th></th>\n      <th>eeg_id</th>\n      <th>eeg_sub_id</th>\n      <th>eeg_label_offset_seconds</th>\n      <th>spectrogram_id</th>\n      <th>spectrogram_sub_id</th>\n      <th>spectrogram_label_offset_seconds</th>\n      <th>label_id</th>\n      <th>patient_id</th>\n      <th>expert_consensus</th>\n      <th>seizure_vote</th>\n      <th>lpd_vote</th>\n      <th>gpd_vote</th>\n      <th>lrda_vote</th>\n      <th>grda_vote</th>\n      <th>other_vote</th>\n    </tr>\n  </thead>\n  <tbody>\n    <tr>\n      <th>0</th>\n      <td>1628180742</td>\n      <td>0</td>\n      <td>0.0</td>\n      <td>353733</td>\n      <td>0</td>\n      <td>0.0</td>\n      <td>127492639</td>\n      <td>42516</td>\n      <td>Seizure</td>\n      <td>3</td>\n      <td>0</td>\n      <td>0</td>\n      <td>0</td>\n      <td>0</td>\n      <td>0</td>\n    </tr>\n    <tr>\n      <th>1</th>\n      <td>1628180742</td>\n      <td>1</td>\n      <td>6.0</td>\n      <td>353733</td>\n      <td>1</td>\n      <td>6.0</td>\n      <td>3887563113</td>\n      <td>42516</td>\n      <td>Seizure</td>\n      <td>3</td>\n      <td>0</td>\n      <td>0</td>\n      <td>0</td>\n      <td>0</td>\n      <td>0</td>\n    </tr>\n    <tr>\n      <th>2</th>\n      <td>1628180742</td>\n      <td>2</td>\n      <td>8.0</td>\n      <td>353733</td>\n      <td>2</td>\n      <td>8.0</td>\n      <td>1142670488</td>\n      <td>42516</td>\n      <td>Seizure</td>\n      <td>3</td>\n      <td>0</td>\n      <td>0</td>\n      <td>0</td>\n      <td>0</td>\n      <td>0</td>\n    </tr>\n    <tr>\n      <th>3</th>\n      <td>1628180742</td>\n      <td>3</td>\n      <td>18.0</td>\n      <td>353733</td>\n      <td>3</td>\n      <td>18.0</td>\n      <td>2718991173</td>\n      <td>42516</td>\n      <td>Seizure</td>\n      <td>3</td>\n      <td>0</td>\n      <td>0</td>\n      <td>0</td>\n      <td>0</td>\n      <td>0</td>\n    </tr>\n    <tr>\n      <th>4</th>\n      <td>1628180742</td>\n      <td>4</td>\n      <td>24.0</td>\n      <td>353733</td>\n      <td>4</td>\n      <td>24.0</td>\n      <td>3080632009</td>\n      <td>42516</td>\n      <td>Seizure</td>\n      <td>3</td>\n      <td>0</td>\n      <td>0</td>\n      <td>0</td>\n      <td>0</td>\n      <td>0</td>\n    </tr>\n  </tbody>\n</table>\n</div>"
     },
     "execution_count": 3,
     "metadata": {},
     "output_type": "execute_result"
    }
   ],
   "source": [
    "train_df.head()"
   ],
   "metadata": {
    "collapsed": false,
    "ExecuteTime": {
     "end_time": "2024-02-28T15:04:38.492963Z",
     "start_time": "2024-02-28T15:04:38.485909Z"
    }
   },
   "id": "f4befe7a15c4a86c",
   "execution_count": 3
  },
  {
   "cell_type": "code",
   "outputs": [
    {
     "name": "stdout",
     "output_type": "stream",
     "text": [
      "<class 'pandas.core.frame.DataFrame'>\n",
      "RangeIndex: 106800 entries, 0 to 106799\n",
      "Data columns (total 15 columns):\n",
      " #   Column                            Non-Null Count   Dtype  \n",
      "---  ------                            --------------   -----  \n",
      " 0   eeg_id                            106800 non-null  int64  \n",
      " 1   eeg_sub_id                        106800 non-null  int64  \n",
      " 2   eeg_label_offset_seconds          106800 non-null  float64\n",
      " 3   spectrogram_id                    106800 non-null  int64  \n",
      " 4   spectrogram_sub_id                106800 non-null  int64  \n",
      " 5   spectrogram_label_offset_seconds  106800 non-null  float64\n",
      " 6   label_id                          106800 non-null  int64  \n",
      " 7   patient_id                        106800 non-null  int64  \n",
      " 8   expert_consensus                  106800 non-null  object \n",
      " 9   seizure_vote                      106800 non-null  int64  \n",
      " 10  lpd_vote                          106800 non-null  int64  \n",
      " 11  gpd_vote                          106800 non-null  int64  \n",
      " 12  lrda_vote                         106800 non-null  int64  \n",
      " 13  grda_vote                         106800 non-null  int64  \n",
      " 14  other_vote                        106800 non-null  int64  \n",
      "dtypes: float64(2), int64(12), object(1)\n",
      "memory usage: 12.2+ MB\n",
      "NaNs in train metadata: 0\n"
     ]
    }
   ],
   "source": [
    "train_df.info()\n",
    "print(f\"NaNs in train metadata: {train_df.isna().sum().sum()}\")"
   ],
   "metadata": {
    "collapsed": false,
    "ExecuteTime": {
     "end_time": "2024-02-28T15:04:38.544086Z",
     "start_time": "2024-02-28T15:04:38.493700Z"
    }
   },
   "id": "b0bda2e6e569aeb8",
   "execution_count": 4
  },
  {
   "cell_type": "code",
   "outputs": [
    {
     "data": {
      "text/plain": "   spectrogram_id      eeg_id  patient_id\n0          853520  3911565283        6885",
      "text/html": "<div>\n<style scoped>\n    .dataframe tbody tr th:only-of-type {\n        vertical-align: middle;\n    }\n\n    .dataframe tbody tr th {\n        vertical-align: top;\n    }\n\n    .dataframe thead th {\n        text-align: right;\n    }\n</style>\n<table border=\"1\" class=\"dataframe\">\n  <thead>\n    <tr style=\"text-align: right;\">\n      <th></th>\n      <th>spectrogram_id</th>\n      <th>eeg_id</th>\n      <th>patient_id</th>\n    </tr>\n  </thead>\n  <tbody>\n    <tr>\n      <th>0</th>\n      <td>853520</td>\n      <td>3911565283</td>\n      <td>6885</td>\n    </tr>\n  </tbody>\n</table>\n</div>"
     },
     "execution_count": 5,
     "metadata": {},
     "output_type": "execute_result"
    }
   ],
   "source": [
    "test_df.head()"
   ],
   "metadata": {
    "collapsed": false,
    "ExecuteTime": {
     "end_time": "2024-02-28T15:04:38.577763Z",
     "start_time": "2024-02-28T15:04:38.545214Z"
    }
   },
   "id": "43f23b7367c703e9",
   "execution_count": 5
  },
  {
   "cell_type": "code",
   "outputs": [
    {
     "name": "stdout",
     "output_type": "stream",
     "text": [
      "<class 'pandas.core.frame.DataFrame'>\n",
      "RangeIndex: 1 entries, 0 to 0\n",
      "Data columns (total 3 columns):\n",
      " #   Column          Non-Null Count  Dtype\n",
      "---  ------          --------------  -----\n",
      " 0   spectrogram_id  1 non-null      int64\n",
      " 1   eeg_id          1 non-null      int64\n",
      " 2   patient_id      1 non-null      int64\n",
      "dtypes: int64(3)\n",
      "memory usage: 152.0 bytes\n"
     ]
    }
   ],
   "source": [
    "test_df.info()"
   ],
   "metadata": {
    "collapsed": false,
    "ExecuteTime": {
     "end_time": "2024-02-28T15:04:38.623810Z",
     "start_time": "2024-02-28T15:04:38.578435Z"
    }
   },
   "id": "50e35b433b118af2",
   "execution_count": 6
  },
  {
   "cell_type": "markdown",
   "source": [
    "Ok so we don't have any missing values in the train and test dataframes. Test is empty since it is dummy data. Now lets load in all the eeg data and check the shape of the data."
   ],
   "metadata": {
    "collapsed": false
   },
   "id": "1f1f7e1307d761b1"
  },
  {
   "cell_type": "markdown",
   "source": [
    "#### Load X (EEGs)"
   ],
   "metadata": {
    "collapsed": false
   },
   "id": "82d0194275122485"
  },
  {
   "cell_type": "code",
   "outputs": [],
   "source": [
    "# Load all the train_eegs\n",
    "def load_eegs():\n",
    "    eegs = []\n",
    "    # Get all eeg filenames\n",
    "    eeg_files = os.listdir('../data/train_eegs')\n",
    "    \n",
    "    #Load all eegs into eegs list\n",
    "    for eeg_file in tqdm(eeg_files):\n",
    "        eegs.append(pq.read_table(f'../data/train_eegs/{eeg_file}').to_pandas())\n",
    "    return eegs, eeg_files"
   ],
   "metadata": {
    "collapsed": false,
    "ExecuteTime": {
     "end_time": "2024-02-28T15:04:38.672438Z",
     "start_time": "2024-02-28T15:04:38.624466Z"
    }
   },
   "id": "7ab56149eebc10f9",
   "execution_count": 7
  },
  {
   "cell_type": "code",
   "outputs": [],
   "source": [
    "def save_eegs(eegs, eeg_files):\n",
    "    files = [x.split('.')[0] for x in eeg_files]\n",
    "    \n",
    "    #For each eeg, add files as a column\n",
    "    for eeg, curr_file in zip(eegs, files):\n",
    "        eeg['file'] = curr_file\n",
    "    \n",
    "    #Concatenate all eegs into one dataframe\n",
    "    eegs = pd.concat(eegs)\n",
    "\n",
    "    #Save the eegs to a single parquet file\n",
    "    eegs.to_parquet(f'../data/train_eegs.parquet')\n",
    "    return eegs"
   ],
   "metadata": {
    "collapsed": false,
    "ExecuteTime": {
     "end_time": "2024-02-28T15:04:38.716752Z",
     "start_time": "2024-02-28T15:04:38.673217Z"
    }
   },
   "id": "d16cbf7a71b0b581",
   "execution_count": 8
  },
  {
   "cell_type": "code",
   "outputs": [],
   "source": [
    "# Check if train_eegs.parquet exists\n",
    "if os.path.exists('../data/train_eegs.parquet'):\n",
    "    eegs = pd.read_parquet('../data/train_eegs.parquet')\n",
    "else:\n",
    "    eegs, eeg_files = load_eegs()\n",
    "    eegs = save_eegs(eegs, eeg_files)"
   ],
   "metadata": {
    "collapsed": false,
    "ExecuteTime": {
     "end_time": "2024-02-28T15:04:49.338121Z",
     "start_time": "2024-02-28T15:04:38.717325Z"
    }
   },
   "id": "d11caf0a75d6e34c",
   "execution_count": 9
  },
  {
   "cell_type": "code",
   "outputs": [
    {
     "data": {
      "text/plain": "          Fp1          F3         C3         P3          F7          T3  \\\n0 -105.849998  -89.230003 -79.459999 -49.230000  -99.730003  -87.769997   \n1  -85.470001  -75.070000 -60.259998 -38.919998  -73.080002  -87.510002   \n2    8.840000   34.849998  56.430000  67.970001   48.099998   25.350000   \n3  -56.320000  -37.279999 -28.100000  -2.820000  -43.430000  -35.049999   \n4 -110.139999 -104.519997 -96.879997 -70.250000 -111.660004 -114.430000   \n\n          T5         O1         Fz         Cz  ...        Fp2         F4  \\\n0 -53.330002 -50.740002 -32.250000 -42.099998  ... -88.730003 -74.410004   \n1 -39.680000 -35.630001 -76.839996 -62.740002  ... -68.629997 -61.689999   \n2  80.250000  48.060001   6.720000  37.880001  ...  16.580000  55.060001   \n3   3.910000 -12.660000   8.650000   3.830000  ... -51.900002 -21.889999   \n4 -71.830002 -61.919998 -76.150002 -79.779999  ... -99.029999 -93.610001   \n\n           C4         P4         F8         T4          T6          O2  \\\n0  -92.459999 -58.930000 -75.739998 -59.470001    8.210000   66.489998   \n1  -69.320000 -35.790001 -58.900002 -41.660000  196.190002  230.669998   \n2   45.020000  70.529999  47.820000  72.029999  -67.180000 -171.309998   \n3  -41.330002 -11.580000 -27.040001 -11.730000  -91.000000  -81.190002   \n4 -104.410004 -70.070000 -89.250000 -77.260002  155.729996  264.850006   \n\n           EKG        file  \n0  1404.930054  1000913311  \n1  3402.669922  1000913311  \n2 -3565.800049  1000913311  \n3 -1280.930054  1000913311  \n4  4325.370117  1000913311  \n\n[5 rows x 21 columns]",
      "text/html": "<div>\n<style scoped>\n    .dataframe tbody tr th:only-of-type {\n        vertical-align: middle;\n    }\n\n    .dataframe tbody tr th {\n        vertical-align: top;\n    }\n\n    .dataframe thead th {\n        text-align: right;\n    }\n</style>\n<table border=\"1\" class=\"dataframe\">\n  <thead>\n    <tr style=\"text-align: right;\">\n      <th></th>\n      <th>Fp1</th>\n      <th>F3</th>\n      <th>C3</th>\n      <th>P3</th>\n      <th>F7</th>\n      <th>T3</th>\n      <th>T5</th>\n      <th>O1</th>\n      <th>Fz</th>\n      <th>Cz</th>\n      <th>...</th>\n      <th>Fp2</th>\n      <th>F4</th>\n      <th>C4</th>\n      <th>P4</th>\n      <th>F8</th>\n      <th>T4</th>\n      <th>T6</th>\n      <th>O2</th>\n      <th>EKG</th>\n      <th>file</th>\n    </tr>\n  </thead>\n  <tbody>\n    <tr>\n      <th>0</th>\n      <td>-105.849998</td>\n      <td>-89.230003</td>\n      <td>-79.459999</td>\n      <td>-49.230000</td>\n      <td>-99.730003</td>\n      <td>-87.769997</td>\n      <td>-53.330002</td>\n      <td>-50.740002</td>\n      <td>-32.250000</td>\n      <td>-42.099998</td>\n      <td>...</td>\n      <td>-88.730003</td>\n      <td>-74.410004</td>\n      <td>-92.459999</td>\n      <td>-58.930000</td>\n      <td>-75.739998</td>\n      <td>-59.470001</td>\n      <td>8.210000</td>\n      <td>66.489998</td>\n      <td>1404.930054</td>\n      <td>1000913311</td>\n    </tr>\n    <tr>\n      <th>1</th>\n      <td>-85.470001</td>\n      <td>-75.070000</td>\n      <td>-60.259998</td>\n      <td>-38.919998</td>\n      <td>-73.080002</td>\n      <td>-87.510002</td>\n      <td>-39.680000</td>\n      <td>-35.630001</td>\n      <td>-76.839996</td>\n      <td>-62.740002</td>\n      <td>...</td>\n      <td>-68.629997</td>\n      <td>-61.689999</td>\n      <td>-69.320000</td>\n      <td>-35.790001</td>\n      <td>-58.900002</td>\n      <td>-41.660000</td>\n      <td>196.190002</td>\n      <td>230.669998</td>\n      <td>3402.669922</td>\n      <td>1000913311</td>\n    </tr>\n    <tr>\n      <th>2</th>\n      <td>8.840000</td>\n      <td>34.849998</td>\n      <td>56.430000</td>\n      <td>67.970001</td>\n      <td>48.099998</td>\n      <td>25.350000</td>\n      <td>80.250000</td>\n      <td>48.060001</td>\n      <td>6.720000</td>\n      <td>37.880001</td>\n      <td>...</td>\n      <td>16.580000</td>\n      <td>55.060001</td>\n      <td>45.020000</td>\n      <td>70.529999</td>\n      <td>47.820000</td>\n      <td>72.029999</td>\n      <td>-67.180000</td>\n      <td>-171.309998</td>\n      <td>-3565.800049</td>\n      <td>1000913311</td>\n    </tr>\n    <tr>\n      <th>3</th>\n      <td>-56.320000</td>\n      <td>-37.279999</td>\n      <td>-28.100000</td>\n      <td>-2.820000</td>\n      <td>-43.430000</td>\n      <td>-35.049999</td>\n      <td>3.910000</td>\n      <td>-12.660000</td>\n      <td>8.650000</td>\n      <td>3.830000</td>\n      <td>...</td>\n      <td>-51.900002</td>\n      <td>-21.889999</td>\n      <td>-41.330002</td>\n      <td>-11.580000</td>\n      <td>-27.040001</td>\n      <td>-11.730000</td>\n      <td>-91.000000</td>\n      <td>-81.190002</td>\n      <td>-1280.930054</td>\n      <td>1000913311</td>\n    </tr>\n    <tr>\n      <th>4</th>\n      <td>-110.139999</td>\n      <td>-104.519997</td>\n      <td>-96.879997</td>\n      <td>-70.250000</td>\n      <td>-111.660004</td>\n      <td>-114.430000</td>\n      <td>-71.830002</td>\n      <td>-61.919998</td>\n      <td>-76.150002</td>\n      <td>-79.779999</td>\n      <td>...</td>\n      <td>-99.029999</td>\n      <td>-93.610001</td>\n      <td>-104.410004</td>\n      <td>-70.070000</td>\n      <td>-89.250000</td>\n      <td>-77.260002</td>\n      <td>155.729996</td>\n      <td>264.850006</td>\n      <td>4325.370117</td>\n      <td>1000913311</td>\n    </tr>\n  </tbody>\n</table>\n<p>5 rows × 21 columns</p>\n</div>"
     },
     "execution_count": 10,
     "metadata": {},
     "output_type": "execute_result"
    }
   ],
   "source": [
    "eegs.head()"
   ],
   "metadata": {
    "collapsed": false,
    "ExecuteTime": {
     "end_time": "2024-02-28T15:04:49.345787Z",
     "start_time": "2024-02-28T15:04:49.338739Z"
    }
   },
   "id": "b02483b62d43c054",
   "execution_count": 10
  },
  {
   "cell_type": "code",
   "outputs": [
    {
     "name": "stdout",
     "output_type": "stream",
     "text": [
      "<class 'pandas.core.frame.DataFrame'>\n",
      "Int64Index: 280905200 entries, 0 to 9999\n",
      "Data columns (total 21 columns):\n",
      " #   Column  Dtype  \n",
      "---  ------  -----  \n",
      " 0   Fp1     float32\n",
      " 1   F3      float32\n",
      " 2   C3      float32\n",
      " 3   P3      float32\n",
      " 4   F7      float32\n",
      " 5   T3      float32\n",
      " 6   T5      float32\n",
      " 7   O1      float32\n",
      " 8   Fz      float32\n",
      " 9   Cz      float32\n",
      " 10  Pz      float32\n",
      " 11  Fp2     float32\n",
      " 12  F4      float32\n",
      " 13  C4      float32\n",
      " 14  P4      float32\n",
      " 15  F8      float32\n",
      " 16  T4      float32\n",
      " 17  T6      float32\n",
      " 18  O2      float32\n",
      " 19  EKG     float32\n",
      " 20  file    object \n",
      "dtypes: float32(20), object(1)\n",
      "memory usage: 25.1+ GB\n"
     ]
    }
   ],
   "source": [
    "eegs.info()"
   ],
   "metadata": {
    "collapsed": false,
    "ExecuteTime": {
     "end_time": "2024-02-28T15:04:49.380867Z",
     "start_time": "2024-02-28T15:04:49.346186Z"
    }
   },
   "id": "5e5d394303649f5d",
   "execution_count": 11
  },
  {
   "cell_type": "markdown",
   "source": [
    "#### Load X (Spectrograms)"
   ],
   "metadata": {
    "collapsed": false
   },
   "id": "ed6ab3b7e9e92922"
  },
  {
   "cell_type": "code",
   "outputs": [],
   "source": [
    "# Load all the train_spectrograms\n",
    "def load_spectrograms():\n",
    "    spectrograms = []\n",
    "    # Get all spectrogram filenames\n",
    "    spectrogram_files = os.listdir('../data/train_spectrograms')\n",
    "    \n",
    "    #Load all spectrograms into spectrograms list\n",
    "    for spectrogram_file in tqdm(spectrogram_files):\n",
    "        spectrograms.append(pq.read_table(f'../data/train_spectrograms/{spectrogram_file}').to_pandas())\n",
    "    return spectrograms, spectrogram_files"
   ],
   "metadata": {
    "collapsed": false,
    "ExecuteTime": {
     "end_time": "2024-02-28T15:04:49.410676Z",
     "start_time": "2024-02-28T15:04:49.381292Z"
    }
   },
   "id": "a005d9d62b278a30",
   "execution_count": 12
  },
  {
   "cell_type": "code",
   "outputs": [],
   "source": [
    "def save_spectrograms(spectrograms, spectrogram_files):\n",
    "    files = [x.split('.')[0] for x in spectrogram_files]\n",
    "    \n",
    "    #For each spectrogram, add files as a column\n",
    "    for spectrogram, curr_file in zip(spectrograms, files):\n",
    "        spectrogram['file'] = curr_file\n",
    "    \n",
    "    #Concatenate all spectrograms into one dataframe\n",
    "    spectrograms = pd.concat(spectrograms)\n",
    "\n",
    "    #Save the spectrograms to a single parquet file\n",
    "    spectrograms.to_parquet(f'../data/train_spectrograms.parquet')\n",
    "    return spectrograms"
   ],
   "metadata": {
    "collapsed": false,
    "ExecuteTime": {
     "end_time": "2024-02-28T15:04:49.435081Z",
     "start_time": "2024-02-28T15:04:49.411092Z"
    }
   },
   "id": "5f92082a810b562",
   "execution_count": 13
  },
  {
   "cell_type": "code",
   "outputs": [],
   "source": [
    "# Check if train_spectrograms.parquet exists\n",
    "if os.path.exists('../data/train_spectrograms.parquet'):\n",
    "    spectrograms = pd.read_parquet('../data/train_spectrograms.parquet')\n",
    "else:\n",
    "    spectrograms, spectrogram_files = load_spectrograms()\n",
    "    spectrograms = save_spectrograms(spectrograms, spectrogram_files)"
   ],
   "metadata": {
    "collapsed": false,
    "ExecuteTime": {
     "end_time": "2024-02-28T15:04:51.299135Z",
     "start_time": "2024-02-28T15:04:49.435967Z"
    }
   },
   "id": "21d52f67f5eee30e",
   "execution_count": 14
  },
  {
   "cell_type": "code",
   "outputs": [
    {
     "name": "stdout",
     "output_type": "stream",
     "text": [
      "<class 'pandas.core.frame.DataFrame'>\n",
      "Int64Index: 4279506 entries, 0 to 315\n",
      "Columns: 402 entries, time to file\n",
      "dtypes: float32(400), int64(1), object(1)\n",
      "memory usage: 6.5+ GB\n"
     ]
    }
   ],
   "source": [
    "spectrograms.info()"
   ],
   "metadata": {
    "collapsed": false,
    "ExecuteTime": {
     "end_time": "2024-02-28T15:04:51.307389Z",
     "start_time": "2024-02-28T15:04:51.300047Z"
    }
   },
   "id": "6aae8b38db6afef6",
   "execution_count": 15
  }
 ],
 "metadata": {
  "kernelspec": {
   "display_name": "Python 3",
   "language": "python",
   "name": "python3"
  },
  "language_info": {
   "codemirror_mode": {
    "name": "ipython",
    "version": 2
   },
   "file_extension": ".py",
   "mimetype": "text/x-python",
   "name": "python",
   "nbconvert_exporter": "python",
   "pygments_lexer": "ipython2",
   "version": "2.7.6"
  }
 },
 "nbformat": 4,
 "nbformat_minor": 5
}
