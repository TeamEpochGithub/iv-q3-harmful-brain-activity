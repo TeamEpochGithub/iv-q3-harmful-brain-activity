{
  "cells": [
    {
      "cell_type": "code",
      "execution_count": 6,
      "metadata": {
        "ExecuteTime": {
          "end_time": "2024-03-20T13:49:25.776379Z",
          "start_time": "2024-03-20T13:49:25.772637Z"
        }
      },
      "outputs": [],
      "source": [
        "import os\n",
        "import re\n",
        "import shutil\n",
        "from pathlib import Path\n",
        "\n",
        "DEPENDENCIES_SAVE_PATH = Path('dependencies')\n",
        "SOURCE_CODE_SAVE_PATH = Path('source-code')\n",
        "SOURCE_CODE_PATH = Path('../')\n",
        "#pip install -r C://Users//Tolga//Desktop//EPOCH-IV//q3-harmful-brain-activity//submission//dependencies//requirements.txt --no-index --find-links=file://C://Users//Tolga//Desktop//EPOCH-IV//q3-harmful-brain-activity//submission//dependencies//tmp\n",
        "UPDATE_DEPENDENCIES = False\n",
        "UPDATE_SOURCE_CODE = True"
      ]
    },
    {
      "cell_type": "markdown",
      "metadata": {},
      "source": [
        "# Manages Depenedencies"
      ]
    },
    {
      "cell_type": "markdown",
      "metadata": {},
      "source": [
        "### Download Dependencies and ZIP them"
      ]
    },
    {
      "cell_type": "code",
      "execution_count": 7,
      "metadata": {
        "ExecuteTime": {
          "end_time": "2024-03-20T13:49:25.833518Z",
          "start_time": "2024-03-20T13:49:25.791887Z"
        }
      },
      "outputs": [],
      "source": [
        "if UPDATE_DEPENDENCIES:\n",
        "    if os.path.exists(DEPENDENCIES_SAVE_PATH):\n",
        "        print('Cleaning the dependencies folder')\n",
        "        for filename in os.listdir(DEPENDENCIES_SAVE_PATH):\n",
        "            file_path = os.path.join(DEPENDENCIES_SAVE_PATH, filename)\n",
        "            if filename != 'tmp':\n",
        "                if os.path.isfile(file_path):\n",
        "                    os.remove(file_path)\n",
        "                elif os.path.isdir(file_path):\n",
        "                    shutil.rmtree(file_path)\n",
        "    else:\n",
        "        os.makedirs(DEPENDENCIES_SAVE_PATH)\n",
        "\n",
        "    print('Copying the requirements.txt file and excluding -e')\n",
        "    with open(SOURCE_CODE_PATH / 'requirements.txt', 'r') as f:\n",
        "        lines = f.readlines()\n",
        "    with open(DEPENDENCIES_SAVE_PATH / 'requirements.txt', 'w') as f:\n",
        "        for line in lines:\n",
        "            if line.startswith('-e'):\n",
        "                continue\n",
        "            if line.startswith('kaggle'):\n",
        "                continue\n",
        "            f.write(line)\n",
        "\n",
        "    if not os.path.exists(DEPENDENCIES_SAVE_PATH / 'tmp'):\n",
        "        os.makedirs(DEPENDENCIES_SAVE_PATH / 'tmp')\n",
        "    print('Downloading the dependencies')\n",
        "    if not os.path.exists(DEPENDENCIES_SAVE_PATH / 'tmp'):\n",
        "        os.makedirs(DEPENDENCIES_SAVE_PATH / 'tmp')\n",
        "    !pip download -r {DEPENDENCIES_SAVE_PATH / 'requirements.txt'} -d {DEPENDENCIES_SAVE_PATH / 'tmp'}\n",
        "\n",
        "    print('Zipping the downloaded dependencies')\n",
        "    shutil.make_archive(DEPENDENCIES_SAVE_PATH / 'dependencies', 'zip', DEPENDENCIES_SAVE_PATH / 'tmp')\n",
        "    shutil.move(DEPENDENCIES_SAVE_PATH / 'dependencies.zip', DEPENDENCIES_SAVE_PATH / 'dependencies.no_unzip')\n",
        "    shutil.rmtree(DEPENDENCIES_SAVE_PATH / 'tmp')\n",
        "\n",
        "    print('Copying the dataset-metadata.json file')\n",
        "    shutil.copy('dataset-metadata-dependencies.json', DEPENDENCIES_SAVE_PATH / 'dataset-metadata.json')\n",
        "\n",
        "    print('Excluding --find-files in requirements.txt')\n",
        "    with open(DEPENDENCIES_SAVE_PATH / 'requirements.txt', 'r') as f:\n",
        "        lines = f.readlines()\n",
        "    with open(DEPENDENCIES_SAVE_PATH / 'requirements.txt', 'w') as f:\n",
        "        for line in lines:\n",
        "            if line.startswith('--find-links'):\n",
        "                continue\n",
        "            f.write(line)\n",
        "\n",
        "    print('Done')"
      ]
    },
    {
      "cell_type": "markdown",
      "metadata": {},
      "source": [
        "### Upload Dependencies to Kaggle as a Dataset"
      ]
    },
    {
      "cell_type": "code",
      "execution_count": 8,
      "metadata": {
        "ExecuteTime": {
          "end_time": "2024-03-20T13:49:25.868044Z",
          "start_time": "2024-03-20T13:49:25.834088Z"
        }
      },
      "outputs": [],
      "source": [
        "if UPDATE_DEPENDENCIES:\n",
        "    # !kaggle datasets create -p ./dependencies\n",
        "    !kaggle datasets version -p ./dependencies -m \"Update Dependencies\"\n"
      ]
    },
    {
      "cell_type": "markdown",
      "metadata": {},
      "source": [
        "# Manage Source Code"
      ]
    },
    {
      "cell_type": "markdown",
      "metadata": {},
      "source": [
        "### Copy Source Code and ZIP it"
      ]
    },
    {
      "cell_type": "code",
      "execution_count": 9,
      "metadata": {
        "ExecuteTime": {
          "end_time": "2024-03-20T13:49:36.110928Z",
          "start_time": "2024-03-20T13:49:25.868691Z"
        }
      },
      "outputs": [
        {
          "name": "stdout",
          "output_type": "stream",
          "text": [
            "Submission files saved to source_code\n"
          ]
        }
      ],
      "source": [
        "if UPDATE_SOURCE_CODE:\n",
        "    if os.path.exists(SOURCE_CODE_SAVE_PATH):\n",
        "        shutil.rmtree(SOURCE_CODE_SAVE_PATH)\n",
        "    os.mkdir(SOURCE_CODE_SAVE_PATH)\n",
        "\n",
        "    # Copy Source Code to submission/source_code\n",
        "    relevant_files = ['src/', 'conf/', 'tm/', 'submit.py']\n",
        "    exluded_files = ['__pycache__']\n",
        "    for file in relevant_files:\n",
        "        if os.path.isdir(SOURCE_CODE_PATH / file):\n",
        "            # Copy directory, skip excluded files with shutil\n",
        "            shutil.copytree(SOURCE_CODE_PATH / file, SOURCE_CODE_SAVE_PATH / \"tmp\" / file, ignore=shutil.ignore_patterns(*exluded_files))\n",
        "        else:\n",
        "            # Copy file\n",
        "            shutil.copy(SOURCE_CODE_PATH / file, SOURCE_CODE_SAVE_PATH / \"tmp\" / file)\n",
        "\n",
        "    # Zip source_code\n",
        "    shutil.make_archive(SOURCE_CODE_SAVE_PATH / 'source-code', 'zip', SOURCE_CODE_SAVE_PATH / \"tmp\")\n",
        "    shutil.rmtree(SOURCE_CODE_SAVE_PATH / \"tmp\")\n",
        "\n",
        "    # Copy dataset-metadata.json to submission\n",
        "    shutil.copy('dataset-metadata-source-code.json', SOURCE_CODE_SAVE_PATH / 'dataset-metadata.json')\n",
        "\n",
        "    print('Submission files saved to source_code')"
      ]
    },
    {
      "cell_type": "markdown",
      "metadata": {},
      "source": [
        "### Upload Source Code"
      ]
    },
    {
      "cell_type": "code",
      "execution_count": 10,
      "metadata": {
        "ExecuteTime": {
          "end_time": "2024-03-20T13:49:47.265966Z",
          "start_time": "2024-03-20T13:49:36.111671Z"
        }
      },
      "outputs": [
        {
          "name": "stdout",
          "output_type": "stream",
          "text": [
            "Starting upload for file source-code.zip\n",
            "Warning: Looks like you're using an outdated API Version, please consider updating (server 1.6.7 / client 1.6.6)\n",
            "Upload successful: source-code.zip (537MB)\n",
            "Dataset version is being created. Please check progress at https://www.kaggle.com/justanotherariel/epoch-hms-source-code\n"
          ]
        },
        {
          "name": "stderr",
          "output_type": "stream",
          "text": [
            "\n",
            "  0%|          | 0.00/537M [00:00<?, ?B/s]\n",
            "  0%|          | 16.0k/537M [00:00<3:49:18, 40.9kB/s]\n",
            "  0%|          | 336k/537M [00:00<11:00, 853kB/s]    \n",
            "  0%|          | 1.22M/537M [00:00<03:34, 2.62MB/s]\n",
            "  0%|          | 1.55M/537M [00:00<04:24, 2.12MB/s]\n",
            "  0%|          | 2.16M/537M [00:01<03:16, 2.86MB/s]\n",
            "  1%|          | 6.06M/537M [00:01<00:50, 11.1MB/s]\n",
            "  2%|\u258f         | 11.7M/537M [00:01<00:26, 20.8MB/s]\n",
            "  3%|\u258e         | 14.7M/537M [00:01<00:23, 22.9MB/s]\n",
            "  3%|\u258e         | 17.6M/537M [00:01<00:22, 24.7MB/s]\n",
            "  4%|\u258d         | 22.5M/537M [00:01<00:17, 31.5MB/s]\n",
            "  5%|\u258c         | 27.0M/537M [00:01<00:15, 35.2MB/s]\n",
            "  6%|\u258c         | 32.5M/537M [00:01<00:12, 41.6MB/s]\n",
            "  7%|\u258b         | 36.7M/537M [00:01<00:13, 39.4MB/s]\n",
            "  8%|\u258a         | 41.7M/537M [00:02<00:12, 42.1MB/s]\n",
            "  9%|\u258a         | 46.7M/537M [00:02<00:12, 42.0MB/s]\n",
            " 10%|\u2589         | 51.7M/537M [00:02<00:11, 44.6MB/s]\n",
            " 11%|\u2588         | 56.4M/537M [00:02<00:10, 46.1MB/s]\n",
            " 11%|\u2588\u258f        | 60.9M/537M [00:02<00:10, 46.2MB/s]\n",
            " 12%|\u2588\u258f        | 65.4M/537M [00:02<00:10, 46.4MB/s]\n",
            " 13%|\u2588\u258e        | 70.5M/537M [00:02<00:10, 48.0MB/s]\n",
            " 14%|\u2588\u258d        | 75.1M/537M [00:02<00:10, 46.4MB/s]\n",
            " 15%|\u2588\u258d        | 79.5M/537M [00:02<00:10, 46.0MB/s]\n",
            " 16%|\u2588\u258c        | 84.2M/537M [00:02<00:10, 44.6MB/s]\n",
            " 17%|\u2588\u258b        | 89.5M/537M [00:03<00:10, 45.6MB/s]\n",
            " 18%|\u2588\u258a        | 94.6M/537M [00:03<00:09, 47.6MB/s]\n",
            " 18%|\u2588\u258a        | 99.2M/537M [00:03<00:09, 46.8MB/s]\n",
            " 19%|\u2588\u2589        | 104M/537M [00:03<00:09, 46.6MB/s] \n",
            " 20%|\u2588\u2588        | 108M/537M [00:03<00:09, 46.4MB/s]\n",
            " 21%|\u2588\u2588        | 113M/537M [00:03<00:09, 45.8MB/s]\n",
            " 22%|\u2588\u2588\u258f       | 117M/537M [00:03<00:09, 45.6MB/s]\n",
            " 23%|\u2588\u2588\u258e       | 121M/537M [00:03<00:09, 45.1MB/s]\n",
            " 23%|\u2588\u2588\u258e       | 126M/537M [00:03<00:09, 47.1MB/s]\n",
            " 24%|\u2588\u2588\u258d       | 131M/537M [00:04<00:09, 46.2MB/s]\n",
            " 25%|\u2588\u2588\u258c       | 135M/537M [00:04<00:09, 46.3MB/s]\n",
            " 26%|\u2588\u2588\u258c       | 140M/537M [00:04<00:09, 46.2MB/s]\n",
            " 27%|\u2588\u2588\u258b       | 144M/537M [00:04<00:08, 46.2MB/s]\n",
            " 28%|\u2588\u2588\u258a       | 149M/537M [00:04<00:08, 48.7MB/s]\n",
            " 29%|\u2588\u2588\u258a       | 154M/537M [00:04<00:08, 46.7MB/s]\n",
            " 30%|\u2588\u2588\u2589       | 159M/537M [00:04<00:08, 46.5MB/s]\n",
            " 30%|\u2588\u2588\u2588       | 163M/537M [00:04<00:08, 45.9MB/s]\n",
            " 31%|\u2588\u2588\u2588       | 168M/537M [00:04<00:08, 46.1MB/s]\n",
            " 32%|\u2588\u2588\u2588\u258f      | 172M/537M [00:04<00:08, 46.9MB/s]\n",
            " 33%|\u2588\u2588\u2588\u258e      | 177M/537M [00:05<00:08, 45.8MB/s]\n",
            " 34%|\u2588\u2588\u2588\u258e      | 181M/537M [00:05<00:08, 43.9MB/s]\n",
            " 35%|\u2588\u2588\u2588\u258d      | 187M/537M [00:05<00:07, 46.3MB/s]\n",
            " 36%|\u2588\u2588\u2588\u258c      | 191M/537M [00:05<00:07, 46.2MB/s]\n",
            " 37%|\u2588\u2588\u2588\u258b      | 197M/537M [00:05<00:07, 47.9MB/s]\n",
            " 37%|\u2588\u2588\u2588\u258b      | 201M/537M [00:05<00:08, 43.7MB/s]\n",
            " 38%|\u2588\u2588\u2588\u258a      | 206M/537M [00:05<00:09, 36.9MB/s]\n",
            " 39%|\u2588\u2588\u2588\u2589      | 209M/537M [00:05<00:09, 37.3MB/s]\n",
            " 40%|\u2588\u2588\u2588\u2589      | 215M/537M [00:06<00:08, 40.5MB/s]\n",
            " 41%|\u2588\u2588\u2588\u2588      | 219M/537M [00:06<00:08, 41.1MB/s]\n",
            " 41%|\u2588\u2588\u2588\u2588\u258f     | 223M/537M [00:06<00:08, 41.1MB/s]\n",
            " 42%|\u2588\u2588\u2588\u2588\u258f     | 228M/537M [00:06<00:07, 42.8MB/s]\n",
            " 44%|\u2588\u2588\u2588\u2588\u258e     | 234M/537M [00:06<00:06, 50.0MB/s]\n",
            " 44%|\u2588\u2588\u2588\u2588\u258d     | 239M/537M [00:06<00:07, 43.3MB/s]\n",
            " 45%|\u2588\u2588\u2588\u2588\u258c     | 243M/537M [00:06<00:06, 44.0MB/s]\n",
            " 46%|\u2588\u2588\u2588\u2588\u258b     | 249M/537M [00:06<00:06, 47.8MB/s]\n",
            " 47%|\u2588\u2588\u2588\u2588\u258b     | 254M/537M [00:06<00:06, 48.5MB/s]\n",
            " 48%|\u2588\u2588\u2588\u2588\u258a     | 259M/537M [00:07<00:06, 43.7MB/s]\n",
            " 49%|\u2588\u2588\u2588\u2588\u2589     | 263M/537M [00:07<00:06, 44.6MB/s]\n",
            " 50%|\u2588\u2588\u2588\u2588\u2589     | 268M/537M [00:07<00:05, 47.1MB/s]\n",
            " 51%|\u2588\u2588\u2588\u2588\u2588     | 273M/537M [00:07<00:06, 45.1MB/s]\n",
            " 52%|\u2588\u2588\u2588\u2588\u2588\u258f    | 278M/537M [00:07<00:05, 46.4MB/s]\n",
            " 52%|\u2588\u2588\u2588\u2588\u2588\u258f    | 282M/537M [00:07<00:05, 46.1MB/s]\n",
            " 53%|\u2588\u2588\u2588\u2588\u2588\u258e    | 287M/537M [00:07<00:05, 46.2MB/s]\n",
            " 54%|\u2588\u2588\u2588\u2588\u2588\u258d    | 291M/537M [00:07<00:05, 45.6MB/s]\n",
            " 55%|\u2588\u2588\u2588\u2588\u2588\u258d    | 295M/537M [00:07<00:05, 45.3MB/s]\n",
            " 56%|\u2588\u2588\u2588\u2588\u2588\u258c    | 300M/537M [00:07<00:05, 45.5MB/s]\n",
            " 57%|\u2588\u2588\u2588\u2588\u2588\u258b    | 305M/537M [00:08<00:05, 46.4MB/s]\n",
            " 58%|\u2588\u2588\u2588\u2588\u2588\u258a    | 309M/537M [00:08<00:05, 46.2MB/s]\n",
            " 58%|\u2588\u2588\u2588\u2588\u2588\u258a    | 314M/537M [00:08<00:05, 46.3MB/s]\n",
            " 59%|\u2588\u2588\u2588\u2588\u2588\u2589    | 319M/537M [00:08<00:05, 45.5MB/s]\n",
            " 60%|\u2588\u2588\u2588\u2588\u2588\u2588    | 325M/537M [00:08<00:04, 50.2MB/s]\n",
            " 61%|\u2588\u2588\u2588\u2588\u2588\u2588\u258f   | 330M/537M [00:08<00:04, 46.2MB/s]\n",
            " 62%|\u2588\u2588\u2588\u2588\u2588\u2588\u258f   | 334M/537M [00:08<00:04, 46.2MB/s]\n",
            " 63%|\u2588\u2588\u2588\u2588\u2588\u2588\u258e   | 339M/537M [00:08<00:04, 45.8MB/s]\n",
            " 64%|\u2588\u2588\u2588\u2588\u2588\u2588\u258d   | 343M/537M [00:08<00:04, 46.3MB/s]\n",
            " 65%|\u2588\u2588\u2588\u2588\u2588\u2588\u258d   | 348M/537M [00:09<00:04, 46.4MB/s]\n",
            " 66%|\u2588\u2588\u2588\u2588\u2588\u2588\u258c   | 352M/537M [00:09<00:04, 46.1MB/s]\n",
            " 66%|\u2588\u2588\u2588\u2588\u2588\u2588\u258b   | 357M/537M [00:09<00:04, 46.2MB/s]\n",
            " 67%|\u2588\u2588\u2588\u2588\u2588\u2588\u258b   | 361M/537M [00:09<00:03, 46.5MB/s]\n",
            " 68%|\u2588\u2588\u2588\u2588\u2588\u2588\u258a   | 366M/537M [00:09<00:03, 46.2MB/s]\n",
            " 69%|\u2588\u2588\u2588\u2588\u2588\u2588\u2589   | 370M/537M [00:09<00:03, 46.1MB/s]\n",
            " 70%|\u2588\u2588\u2588\u2588\u2588\u2588\u2589   | 375M/537M [00:09<00:03, 46.6MB/s]\n",
            " 71%|\u2588\u2588\u2588\u2588\u2588\u2588\u2588   | 380M/537M [00:09<00:03, 48.1MB/s]\n",
            " 72%|\u2588\u2588\u2588\u2588\u2588\u2588\u2588\u258f  | 384M/537M [00:09<00:03, 45.7MB/s]\n",
            " 72%|\u2588\u2588\u2588\u2588\u2588\u2588\u2588\u258f  | 389M/537M [00:10<00:03, 45.4MB/s]\n",
            " 73%|\u2588\u2588\u2588\u2588\u2588\u2588\u2588\u258e  | 394M/537M [00:10<00:03, 42.6MB/s]\n",
            " 74%|\u2588\u2588\u2588\u2588\u2588\u2588\u2588\u258d  | 399M/537M [00:10<00:03, 45.5MB/s]\n",
            " 75%|\u2588\u2588\u2588\u2588\u2588\u2588\u2588\u258c  | 404M/537M [00:10<00:02, 49.4MB/s]\n",
            " 76%|\u2588\u2588\u2588\u2588\u2588\u2588\u2588\u258c  | 409M/537M [00:10<00:03, 42.6MB/s]\n",
            " 77%|\u2588\u2588\u2588\u2588\u2588\u2588\u2588\u258b  | 414M/537M [00:10<00:03, 42.9MB/s]\n",
            " 78%|\u2588\u2588\u2588\u2588\u2588\u2588\u2588\u258a  | 419M/537M [00:10<00:02, 44.4MB/s]\n",
            " 79%|\u2588\u2588\u2588\u2588\u2588\u2588\u2588\u2589  | 425M/537M [00:10<00:02, 46.8MB/s]\n",
            " 80%|\u2588\u2588\u2588\u2588\u2588\u2588\u2588\u2589  | 429M/537M [00:10<00:02, 44.8MB/s]\n",
            " 81%|\u2588\u2588\u2588\u2588\u2588\u2588\u2588\u2588  | 434M/537M [00:11<00:02, 44.0MB/s]\n",
            " 82%|\u2588\u2588\u2588\u2588\u2588\u2588\u2588\u2588\u258f | 438M/537M [00:11<00:02, 43.6MB/s]\n",
            " 83%|\u2588\u2588\u2588\u2588\u2588\u2588\u2588\u2588\u258e | 443M/537M [00:11<00:02, 45.7MB/s]\n",
            " 83%|\u2588\u2588\u2588\u2588\u2588\u2588\u2588\u2588\u258e | 448M/537M [00:11<00:01, 47.2MB/s]\n",
            " 84%|\u2588\u2588\u2588\u2588\u2588\u2588\u2588\u2588\u258d | 453M/537M [00:11<00:01, 46.9MB/s]\n",
            " 85%|\u2588\u2588\u2588\u2588\u2588\u2588\u2588\u2588\u258c | 458M/537M [00:11<00:01, 45.6MB/s]\n",
            " 86%|\u2588\u2588\u2588\u2588\u2588\u2588\u2588\u2588\u258c | 462M/537M [00:11<00:01, 45.6MB/s]\n",
            " 87%|\u2588\u2588\u2588\u2588\u2588\u2588\u2588\u2588\u258b | 467M/537M [00:11<00:01, 46.3MB/s]\n",
            " 88%|\u2588\u2588\u2588\u2588\u2588\u2588\u2588\u2588\u258a | 471M/537M [00:11<00:01, 44.2MB/s]\n",
            " 89%|\u2588\u2588\u2588\u2588\u2588\u2588\u2588\u2588\u2589 | 477M/537M [00:12<00:01, 47.9MB/s]\n",
            " 90%|\u2588\u2588\u2588\u2588\u2588\u2588\u2588\u2588\u2589 | 482M/537M [00:12<00:01, 46.9MB/s]\n",
            " 90%|\u2588\u2588\u2588\u2588\u2588\u2588\u2588\u2588\u2588 | 486M/537M [00:12<00:01, 46.9MB/s]\n",
            " 91%|\u2588\u2588\u2588\u2588\u2588\u2588\u2588\u2588\u2588\u258f| 491M/537M [00:12<00:01, 47.3MB/s]\n",
            " 92%|\u2588\u2588\u2588\u2588\u2588\u2588\u2588\u2588\u2588\u258f| 495M/537M [00:12<00:00, 46.3MB/s]\n",
            " 93%|\u2588\u2588\u2588\u2588\u2588\u2588\u2588\u2588\u2588\u258e| 500M/537M [00:12<00:00, 46.8MB/s]\n",
            " 94%|\u2588\u2588\u2588\u2588\u2588\u2588\u2588\u2588\u2588\u258d| 504M/537M [00:12<00:00, 45.3MB/s]\n",
            " 95%|\u2588\u2588\u2588\u2588\u2588\u2588\u2588\u2588\u2588\u258d| 510M/537M [00:12<00:00, 50.0MB/s]\n",
            " 96%|\u2588\u2588\u2588\u2588\u2588\u2588\u2588\u2588\u2588\u258c| 515M/537M [00:12<00:00, 45.4MB/s]\n",
            " 97%|\u2588\u2588\u2588\u2588\u2588\u2588\u2588\u2588\u2588\u258b| 520M/537M [00:13<00:00, 45.7MB/s]\n",
            " 98%|\u2588\u2588\u2588\u2588\u2588\u2588\u2588\u2588\u2588\u258a| 524M/537M [00:13<00:00, 44.4MB/s]\n",
            " 98%|\u2588\u2588\u2588\u2588\u2588\u2588\u2588\u2588\u2588\u258a| 529M/537M [00:13<00:00, 45.4MB/s]\n",
            " 99%|\u2588\u2588\u2588\u2588\u2588\u2588\u2588\u2588\u2588\u2589| 533M/537M [00:13<00:00, 45.8MB/s]\n",
            "100%|\u2588\u2588\u2588\u2588\u2588\u2588\u2588\u2588\u2588\u2588| 537M/537M [00:13<00:00, 40.5MB/s]\n"
          ]
        }
      ],
      "source": [
        "if UPDATE_SOURCE_CODE:\n",
        "    # !kaggle datasets create -p ./source-code\n",
        "    !kaggle datasets version -p ./source-code -m \"Update Source Code\""
      ]
    }
  ],
  "metadata": {
    "kernelspec": {
      "display_name": ".venv",
      "language": "python",
      "name": "python3"
    },
    "language_info": {
      "codemirror_mode": {
        "name": "ipython",
        "version": 3
      },
      "file_extension": ".py",
      "mimetype": "text/x-python",
      "name": "python",
      "nbconvert_exporter": "python",
      "pygments_lexer": "ipython3",
      "version": "3.11.8"
    }
  },
  "nbformat": 4,
  "nbformat_minor": 2
}
