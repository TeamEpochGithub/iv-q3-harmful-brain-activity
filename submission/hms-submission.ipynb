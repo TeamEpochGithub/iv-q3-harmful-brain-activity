{
 "cells": [
  {
   "cell_type": "code",
   "execution_count": 1,
   "id": "133a0c30",
   "metadata": {
    "execution": {
     "iopub.execute_input": "2024-03-14T14:51:50.055549Z",
     "iopub.status.busy": "2024-03-14T14:51:50.054887Z",
     "iopub.status.idle": "2024-03-14T14:51:50.066135Z",
     "shell.execute_reply": "2024-03-14T14:51:50.065407Z"
    },
    "papermill": {
     "duration": 0.018258,
     "end_time": "2024-03-14T14:51:50.068759",
     "exception": false,
     "start_time": "2024-03-14T14:51:50.050501",
     "status": "completed"
    },
    "tags": [],
    "ExecuteTime": {
     "end_time": "2024-04-07T19:54:42.272707Z",
     "start_time": "2024-04-07T19:54:42.269015Z"
    }
   },
   "outputs": [],
   "source": [
    "import os\n",
    "import shutil\n",
    "from pathlib import Path\n",
    "\n",
    "DEPENDENCIES_DATASET_PATH = Path('/kaggle/input/epoch-hms-dependencies')\n",
    "SOURCE_CODE_DATASET_PATH = Path('/kaggle/input/epoch-hms-source-code')\n",
    "\n",
    "DEPENENCIES_EXTRACTED_PATH = Path('/kaggle/temp/dependencies')"
   ]
  },
  {
   "cell_type": "markdown",
   "id": "ca984cbf",
   "metadata": {
    "papermill": {
     "duration": 0.002359,
     "end_time": "2024-03-14T14:51:50.074470",
     "exception": false,
     "start_time": "2024-03-14T14:51:50.072111",
     "status": "completed"
    },
    "tags": []
   },
   "source": [
    "# Install Dependencies"
   ]
  },
  {
   "cell_type": "code",
   "execution_count": 2,
   "id": "fd9bdccc",
   "metadata": {
    "collapsed": true,
    "execution": {
     "iopub.execute_input": "2024-03-14T14:51:50.080367Z",
     "iopub.status.busy": "2024-03-14T14:51:50.080094Z",
     "iopub.status.idle": "2024-03-14T14:54:47.235236Z",
     "shell.execute_reply": "2024-03-14T14:54:47.234182Z"
    },
    "jupyter": {
     "outputs_hidden": true
    },
    "papermill": {
     "duration": 177.160893,
     "end_time": "2024-03-14T14:54:47.237763",
     "exception": false,
     "start_time": "2024-03-14T14:51:50.076870",
     "status": "completed"
    },
    "tags": [],
    "ExecuteTime": {
     "end_time": "2024-04-07T19:54:42.434899Z",
     "start_time": "2024-04-07T19:54:42.273418Z"
    }
   },
   "outputs": [
    {
     "name": "stdout",
     "output_type": "stream",
     "text": [
      "Extracting Dependencies\n"
     ]
    },
    {
     "ename": "ReadError",
     "evalue": "/kaggle/input/epoch-hms-dependencies/dependencies.no_unzip is not a zip file",
     "output_type": "error",
     "traceback": [
      "\u001B[0;31m---------------------------------------------------------------------------\u001B[0m",
      "\u001B[0;31mReadError\u001B[0m                                 Traceback (most recent call last)",
      "Cell \u001B[0;32mIn[2], line 3\u001B[0m\n\u001B[1;32m      1\u001B[0m \u001B[38;5;28;01mif\u001B[39;00m \u001B[38;5;129;01mnot\u001B[39;00m os\u001B[38;5;241m.\u001B[39mpath\u001B[38;5;241m.\u001B[39mexists(DEPENENCIES_EXTRACTED_PATH):\n\u001B[1;32m      2\u001B[0m     \u001B[38;5;28mprint\u001B[39m(\u001B[38;5;124m\"\u001B[39m\u001B[38;5;124mExtracting Dependencies\u001B[39m\u001B[38;5;124m\"\u001B[39m)\n\u001B[0;32m----> 3\u001B[0m     \u001B[43mshutil\u001B[49m\u001B[38;5;241;43m.\u001B[39;49m\u001B[43munpack_archive\u001B[49m\u001B[43m(\u001B[49m\u001B[43mDEPENDENCIES_DATASET_PATH\u001B[49m\u001B[43m \u001B[49m\u001B[38;5;241;43m/\u001B[39;49m\u001B[43m \u001B[49m\u001B[38;5;124;43m'\u001B[39;49m\u001B[38;5;124;43mdependencies.no_unzip\u001B[39;49m\u001B[38;5;124;43m'\u001B[39;49m\u001B[43m,\u001B[49m\u001B[43m \u001B[49m\u001B[43mDEPENENCIES_EXTRACTED_PATH\u001B[49m\u001B[43m,\u001B[49m\u001B[43m \u001B[49m\u001B[38;5;28;43mformat\u001B[39;49m\u001B[38;5;241;43m=\u001B[39;49m\u001B[38;5;124;43m'\u001B[39;49m\u001B[38;5;124;43mzip\u001B[39;49m\u001B[38;5;124;43m'\u001B[39;49m\u001B[43m)\u001B[49m\n\u001B[1;32m      5\u001B[0m \u001B[38;5;28mprint\u001B[39m(\u001B[38;5;124m\"\u001B[39m\u001B[38;5;124mInstalling Dependencies\u001B[39m\u001B[38;5;124m\"\u001B[39m)\n\u001B[1;32m      6\u001B[0m get_ipython()\u001B[38;5;241m.\u001B[39msystem(\u001B[38;5;124m'\u001B[39m\u001B[38;5;124mpip install -r \u001B[39m\u001B[38;5;132;01m{DEPENDENCIES_DATASET_PATH}\u001B[39;00m\u001B[38;5;124m/requirements.txt --no-index --find-links=file://\u001B[39m\u001B[38;5;132;01m{DEPENENCIES_EXTRACTED_PATH}\u001B[39;00m\u001B[38;5;124m'\u001B[39m)\n",
      "File \u001B[0;32m/usr/lib/python3.10/shutil.py:1305\u001B[0m, in \u001B[0;36munpack_archive\u001B[0;34m(filename, extract_dir, format, filter)\u001B[0m\n\u001B[1;32m   1302\u001B[0m         \u001B[38;5;28;01mraise\u001B[39;00m \u001B[38;5;167;01mValueError\u001B[39;00m(\u001B[38;5;124m\"\u001B[39m\u001B[38;5;124mUnknown unpack format \u001B[39m\u001B[38;5;124m'\u001B[39m\u001B[38;5;132;01m{0}\u001B[39;00m\u001B[38;5;124m'\u001B[39m\u001B[38;5;124m\"\u001B[39m\u001B[38;5;241m.\u001B[39mformat(\u001B[38;5;28mformat\u001B[39m)) \u001B[38;5;28;01mfrom\u001B[39;00m \u001B[38;5;28;01mNone\u001B[39;00m\n\u001B[1;32m   1304\u001B[0m     func \u001B[38;5;241m=\u001B[39m format_info[\u001B[38;5;241m1\u001B[39m]\n\u001B[0;32m-> 1305\u001B[0m     \u001B[43mfunc\u001B[49m\u001B[43m(\u001B[49m\u001B[43mfilename\u001B[49m\u001B[43m,\u001B[49m\u001B[43m \u001B[49m\u001B[43mextract_dir\u001B[49m\u001B[43m,\u001B[49m\u001B[43m \u001B[49m\u001B[38;5;241;43m*\u001B[39;49m\u001B[38;5;241;43m*\u001B[39;49m\u001B[38;5;28;43mdict\u001B[39;49m\u001B[43m(\u001B[49m\u001B[43mformat_info\u001B[49m\u001B[43m[\u001B[49m\u001B[38;5;241;43m2\u001B[39;49m\u001B[43m]\u001B[49m\u001B[43m)\u001B[49m\u001B[43m,\u001B[49m\u001B[43m \u001B[49m\u001B[38;5;241;43m*\u001B[39;49m\u001B[38;5;241;43m*\u001B[39;49m\u001B[43mfilter_kwargs\u001B[49m\u001B[43m)\u001B[49m\n\u001B[1;32m   1306\u001B[0m \u001B[38;5;28;01melse\u001B[39;00m:\n\u001B[1;32m   1307\u001B[0m     \u001B[38;5;66;03m# we need to look at the registered unpackers supported extensions\u001B[39;00m\n\u001B[1;32m   1308\u001B[0m     \u001B[38;5;28mformat\u001B[39m \u001B[38;5;241m=\u001B[39m _find_unpack_format(filename)\n",
      "File \u001B[0;32m/usr/lib/python3.10/shutil.py:1201\u001B[0m, in \u001B[0;36m_unpack_zipfile\u001B[0;34m(filename, extract_dir)\u001B[0m\n\u001B[1;32m   1198\u001B[0m \u001B[38;5;28;01mimport\u001B[39;00m \u001B[38;5;21;01mzipfile\u001B[39;00m  \u001B[38;5;66;03m# late import for breaking circular dependency\u001B[39;00m\n\u001B[1;32m   1200\u001B[0m \u001B[38;5;28;01mif\u001B[39;00m \u001B[38;5;129;01mnot\u001B[39;00m zipfile\u001B[38;5;241m.\u001B[39mis_zipfile(filename):\n\u001B[0;32m-> 1201\u001B[0m     \u001B[38;5;28;01mraise\u001B[39;00m ReadError(\u001B[38;5;124m\"\u001B[39m\u001B[38;5;132;01m%s\u001B[39;00m\u001B[38;5;124m is not a zip file\u001B[39m\u001B[38;5;124m\"\u001B[39m \u001B[38;5;241m%\u001B[39m filename)\n\u001B[1;32m   1203\u001B[0m \u001B[38;5;28mzip\u001B[39m \u001B[38;5;241m=\u001B[39m zipfile\u001B[38;5;241m.\u001B[39mZipFile(filename)\n\u001B[1;32m   1204\u001B[0m \u001B[38;5;28;01mtry\u001B[39;00m:\n",
      "\u001B[0;31mReadError\u001B[0m: /kaggle/input/epoch-hms-dependencies/dependencies.no_unzip is not a zip file"
     ]
    }
   ],
   "source": [
    "if not os.path.exists(DEPENENCIES_EXTRACTED_PATH):\n",
    "    print(\"Extracting Dependencies\")\n",
    "    shutil.unpack_archive(DEPENDENCIES_DATASET_PATH / 'dependencies.no_unzip', DEPENENCIES_EXTRACTED_PATH, format='zip')\n",
    "\n",
    "print(\"Installing Dependencies\")\n",
    "!pip install -r {DEPENDENCIES_DATASET_PATH}/requirements.txt --no-index --find-links=file://{DEPENENCIES_EXTRACTED_PATH}"
   ]
  },
  {
   "cell_type": "markdown",
   "id": "d10b9d3c",
   "metadata": {
    "papermill": {
     "duration": 0.029684,
     "end_time": "2024-03-14T14:54:47.298324",
     "exception": false,
     "start_time": "2024-03-14T14:54:47.268640",
     "status": "completed"
    },
    "tags": []
   },
   "source": [
    "# Run Predictor"
   ]
  },
  {
   "cell_type": "code",
   "execution_count": null,
   "id": "5c47ea80",
   "metadata": {
    "execution": {
     "iopub.execute_input": "2024-03-14T14:54:47.360757Z",
     "iopub.status.busy": "2024-03-14T14:54:47.359931Z",
     "iopub.status.idle": "2024-03-14T14:55:06.106289Z",
     "shell.execute_reply": "2024-03-14T14:55:06.104749Z"
    },
    "papermill": {
     "duration": 18.780753,
     "end_time": "2024-03-14T14:55:06.109087",
     "exception": false,
     "start_time": "2024-03-14T14:54:47.328334",
     "status": "completed"
    },
    "tags": []
   },
   "outputs": [],
   "source": [
    "%cd /kaggle/working\n",
    "!rm -rf /kaggle/working/*\n",
    "\n",
    "!cp -r {SOURCE_CODE_DATASET_PATH}/* .\n",
    "!python3 \"submit.py\""
   ]
  },
  {
   "cell_type": "code",
   "execution_count": null,
   "id": "f3338b30",
   "metadata": {
    "execution": {
     "iopub.execute_input": "2024-03-14T14:55:06.177461Z",
     "iopub.status.busy": "2024-03-14T14:55:06.176795Z",
     "iopub.status.idle": "2024-03-14T14:55:07.128124Z",
     "shell.execute_reply": "2024-03-14T14:55:07.127067Z"
    },
    "papermill": {
     "duration": 0.987003,
     "end_time": "2024-03-14T14:55:07.130469",
     "exception": false,
     "start_time": "2024-03-14T14:55:06.143466",
     "status": "completed"
    },
    "tags": []
   },
   "outputs": [],
   "source": [
    "!cat submission.csv"
   ]
  }
 ],
 "metadata": {
  "kaggle": {
   "accelerator": "gpu",
   "dataSources": [
    {
     "databundleVersionId": 7469972,
     "sourceId": 59093,
     "sourceType": "competition"
    },
    {
     "datasetId": 4597582,
     "sourceId": 7843486,
     "sourceType": "datasetVersion"
    },
    {
     "datasetId": 4597372,
     "sourceId": 7844009,
     "sourceType": "datasetVersion"
    }
   ],
   "dockerImageVersionId": 30665,
   "isGpuEnabled": true,
   "isInternetEnabled": false,
   "language": "python",
   "sourceType": "notebook"
  },
  "kernelspec": {
   "display_name": "Python 3",
   "language": "python",
   "name": "python3"
  },
  "language_info": {
   "codemirror_mode": {
    "name": "ipython",
    "version": 3
   },
   "file_extension": ".py",
   "mimetype": "text/x-python",
   "name": "python",
   "nbconvert_exporter": "python",
   "pygments_lexer": "ipython3",
   "version": "3.10.13"
  },
  "papermill": {
   "default_parameters": {},
   "duration": 200.295051,
   "end_time": "2024-03-14T14:55:07.481703",
   "environment_variables": {},
   "exception": null,
   "input_path": "__notebook__.ipynb",
   "output_path": "__notebook__.ipynb",
   "parameters": {},
   "start_time": "2024-03-14T14:51:47.186652",
   "version": "2.5.0"
  }
 },
 "nbformat": 4,
 "nbformat_minor": 5
}
